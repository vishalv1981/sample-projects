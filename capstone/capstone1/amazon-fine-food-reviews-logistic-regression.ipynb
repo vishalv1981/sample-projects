{
 "cells": [
  {
   "cell_type": "code",
   "execution_count": 128,
   "metadata": {
    "_cell_guid": "b1076dfc-b9ad-4769-8c92-a6c4dae69d19",
    "_uuid": "8f2839f25d086af736a60e9eeb907d3b93b6e0e5",
    "execution": {
     "iopub.execute_input": "2021-03-22T18:01:40.129110Z",
     "iopub.status.busy": "2021-03-22T18:01:40.128461Z",
     "iopub.status.idle": "2021-03-22T18:01:40.145096Z",
     "shell.execute_reply": "2021-03-22T18:01:40.144395Z"
    },
    "papermill": {
     "duration": 0.089147,
     "end_time": "2021-03-22T18:01:40.145349",
     "exception": false,
     "start_time": "2021-03-22T18:01:40.056202",
     "status": "completed"
    },
    "tags": []
   },
   "outputs": [],
   "source": [
    "# This Python 3 environment comes with many helpful analytics libraries installed\n",
    "# It is defined by the kaggle/python Docker image: https://github.com/kaggle/docker-python\n",
    "# For example, here's several helpful packages to load\n",
    "\n",
    "import numpy as np # linear algebra\n",
    "import pandas as pd # data processing, CSV file I/O (e.g. pd.read_csv)\n",
    "\n",
    "# Input data files are available in the read-only \"../input/\" directory\n",
    "# For example, running this (by clicking run or pressing Shift+Enter) will list all files under the input directory\n",
    "\n",
    "import os\n",
    "for dirname, _, filenames in os.walk('/kaggle/input'):\n",
    "    for filename in filenames:\n",
    "        print(os.path.join(dirname, filename))\n",
    "\n",
    "# You can write up to 20GB to the current directory (/kaggle/working/) that gets preserved as output when you create a version using \"Save & Run All\" \n",
    "# You can also write temporary files to /kaggle/temp/, but they won't be saved outside of the current session"
   ]
  },
  {
   "cell_type": "code",
   "execution_count": 129,
   "metadata": {
    "execution": {
     "iopub.execute_input": "2021-03-22T18:01:40.290400Z",
     "iopub.status.busy": "2021-03-22T18:01:40.289360Z",
     "iopub.status.idle": "2021-03-22T18:01:40.293332Z",
     "shell.execute_reply": "2021-03-22T18:01:40.292701Z"
    },
    "papermill": {
     "duration": 0.083559,
     "end_time": "2021-03-22T18:01:40.293479",
     "exception": false,
     "start_time": "2021-03-22T18:01:40.209920",
     "status": "completed"
    },
    "tags": []
   },
   "outputs": [],
   "source": [
    "%config Completer.use_jedi = False"
   ]
  },
  {
   "cell_type": "markdown",
   "metadata": {
    "papermill": {
     "duration": 0.066459,
     "end_time": "2021-03-22T18:01:40.425582",
     "exception": false,
     "start_time": "2021-03-22T18:01:40.359123",
     "status": "completed"
    },
    "tags": []
   },
   "source": [
    "# Logistic Regression on  Amazon Fine food Review \n",
    "The Amazon fine food dataset consists of reviews of fine foods from amazon\n",
    "All data in one sqlite database. 568,454 food reviews Amazon users left up to October 2012\n",
    "Data includes:\n",
    "\n",
    "* Number of reviews :  568,454 reviews\n",
    "* Number of user : 256,059 users\n",
    "* Total Number of Producst : 74,258 products\n",
    "* Time Span of taking Reviews : from Oct 1999 - Oct 2012\n",
    "* Number of Columns/fields : 10\n",
    "\n",
    "***Attributes Information :***\n",
    "1. Id : Row Id\n",
    "1. ProductId :Unique identifier for the product (74258 unique values)\n",
    "1. UserId :Unqiue identifier for the user (256059 unique values)\n",
    "1. ProfileName : Profile name of the user (218418 unique values )\n",
    "1. HelpfulnessNumerator : Number of users who found the review helpful \n",
    "1. HelpfulnessDenominator : Number of users who indicated whether they found the review helpful or not \n",
    "1. Score : Rating between 1 and 5\n",
    "1. Time : Timestamp for the review\n",
    "1. Summary : Brief summary of the review (295744 unique values)\n",
    "1. Text : Text of the review (393579 unique values)\n",
    "\n",
    "> **Objective :** *Given a review ,determine whether a review is postive or negative*\n",
    "\n",
    "**Q].** *How to determine if a review is postive or negative?*\n",
    "\n",
    "**Ans.** We can use the Score/rating. A rating of 4 or 5 could be considered as positive review & A rating of 1 or 2 can be consider as negative review . A rating of 3 can be consider as neutral and can be ignored . This is the approximation and proxy way to approach way of determing the polarity(positivity/negativity) of reviews."
   ]
  },
  {
   "cell_type": "markdown",
   "metadata": {
    "papermill": {
     "duration": 0.066409,
     "end_time": "2021-03-22T18:01:40.557508",
     "exception": false,
     "start_time": "2021-03-22T18:01:40.491099",
     "status": "completed"
    },
    "tags": []
   },
   "source": [
    "# Loadig the data \n",
    "The dataset is available in two forms\n",
    "1. .csv form\n",
    "2. Sqlite Database\n",
    "\n",
    "In order to load the database ,I have use the Sqlite Database as it easier to query the data and visualise the data sufficienlty . Here as we only want to get the global sentiment of the recommnedation(Positive/Negative), We will purposefully ignore all the scores equal to 3 ,If the Score is above 3 then the reviews will be \"Positive\",Otherwise it will \"Negative\"."
   ]
  },
  {
   "cell_type": "markdown",
   "metadata": {
    "papermill": {
     "duration": 0.066404,
     "end_time": "2021-03-22T18:01:40.688513",
     "exception": false,
     "start_time": "2021-03-22T18:01:40.622109",
     "status": "completed"
    },
    "tags": []
   },
   "source": [
    "# Importing important library"
   ]
  },
  {
   "cell_type": "code",
   "execution_count": 130,
   "metadata": {
    "execution": {
     "iopub.execute_input": "2021-03-22T18:01:40.833476Z",
     "iopub.status.busy": "2021-03-22T18:01:40.832625Z",
     "iopub.status.idle": "2021-03-22T18:01:42.754656Z",
     "shell.execute_reply": "2021-03-22T18:01:42.753489Z"
    },
    "papermill": {
     "duration": 2.00097,
     "end_time": "2021-03-22T18:01:42.754874",
     "exception": false,
     "start_time": "2021-03-22T18:01:40.753904",
     "status": "completed"
    },
    "tags": []
   },
   "outputs": [],
   "source": [
    "%matplotlib inline\n",
    "import warnings\n",
    "warnings.filterwarnings('ignore')\n",
    "\n",
    "import sqlite3\n",
    "import pandas as pd\n",
    "import numpy as np\n",
    "import seaborn as sns\n",
    "import matplotlib.pyplot as plt\n",
    "\n",
    "from sklearn.feature_extraction.text import TfidfVectorizer\n",
    "from sklearn.feature_extraction.text import CountVectorizer\n",
    "#mterics \n",
    "from sklearn import metrics\n",
    "from sklearn.metrics import accuracy_score\n",
    "from sklearn.metrics import confusion_matrix\n",
    "from sklearn.metrics import precision_score\n",
    "from sklearn.metrics import f1_score\n",
    "from sklearn.metrics import recall_score\n",
    "from sklearn.metrics import confusion_matrix \n",
    "from sklearn.metrics import roc_auc_score\n",
    "\n",
    "import string\n",
    "import nltk\n",
    "from nltk.stem import SnowballStemmer\n",
    "from nltk.stem import PorterStemmer\n",
    "from nltk.stem.wordnet import WordNetLemmatizer\n",
    "from nltk.corpus import stopwords\n",
    "\n",
    "import gensim\n",
    "from gensim.models import KeyedVectors\n",
    "from gensim.models import Word2Vec\n",
    "\n",
    "import os\n",
    "import pickle \n",
    "from tqdm import tqdm\n"
   ]
  },
  {
   "cell_type": "markdown",
   "metadata": {
    "papermill": {
     "duration": 0.071023,
     "end_time": "2021-03-22T18:01:42.891753",
     "exception": false,
     "start_time": "2021-03-22T18:01:42.820730",
     "status": "completed"
    },
    "tags": []
   },
   "source": [
    "# Readind Data from Sqlite database"
   ]
  },
  {
   "cell_type": "code",
   "execution_count": 131,
   "metadata": {
    "execution": {
     "iopub.execute_input": "2021-03-22T18:01:43.036200Z",
     "iopub.status.busy": "2021-03-22T18:01:43.035289Z",
     "iopub.status.idle": "2021-03-22T18:01:55.980251Z",
     "shell.execute_reply": "2021-03-22T18:01:55.981705Z"
    },
    "papermill": {
     "duration": 13.024391,
     "end_time": "2021-03-22T18:01:55.981961",
     "exception": false,
     "start_time": "2021-03-22T18:01:42.957570",
     "status": "completed"
    },
    "tags": []
   },
   "outputs": [
    {
     "name": "stdout",
     "output_type": "stream",
     "text": [
      "No. of data points in Dataset: (525814, 10)\n"
     ]
    },
    {
     "data": {
      "text/html": [
       "<div>\n",
       "<style scoped>\n",
       "    .dataframe tbody tr th:only-of-type {\n",
       "        vertical-align: middle;\n",
       "    }\n",
       "\n",
       "    .dataframe tbody tr th {\n",
       "        vertical-align: top;\n",
       "    }\n",
       "\n",
       "    .dataframe thead th {\n",
       "        text-align: right;\n",
       "    }\n",
       "</style>\n",
       "<table border=\"1\" class=\"dataframe\">\n",
       "  <thead>\n",
       "    <tr style=\"text-align: right;\">\n",
       "      <th></th>\n",
       "      <th>Id</th>\n",
       "      <th>ProductId</th>\n",
       "      <th>UserId</th>\n",
       "      <th>ProfileName</th>\n",
       "      <th>HelpfulnessNumerator</th>\n",
       "      <th>HelpfulnessDenominator</th>\n",
       "      <th>Score</th>\n",
       "      <th>Time</th>\n",
       "      <th>Summary</th>\n",
       "      <th>Text</th>\n",
       "    </tr>\n",
       "  </thead>\n",
       "  <tbody>\n",
       "    <tr>\n",
       "      <th>0</th>\n",
       "      <td>1</td>\n",
       "      <td>B001E4KFG0</td>\n",
       "      <td>A3SGXH7AUHU8GW</td>\n",
       "      <td>delmartian</td>\n",
       "      <td>1</td>\n",
       "      <td>1</td>\n",
       "      <td>1</td>\n",
       "      <td>1303862400</td>\n",
       "      <td>Good Quality Dog Food</td>\n",
       "      <td>I have bought several of the Vitality canned d...</td>\n",
       "    </tr>\n",
       "    <tr>\n",
       "      <th>1</th>\n",
       "      <td>2</td>\n",
       "      <td>B00813GRG4</td>\n",
       "      <td>A1D87F6ZCVE5NK</td>\n",
       "      <td>dll pa</td>\n",
       "      <td>0</td>\n",
       "      <td>0</td>\n",
       "      <td>0</td>\n",
       "      <td>1346976000</td>\n",
       "      <td>Not as Advertised</td>\n",
       "      <td>Product arrived labeled as Jumbo Salted Peanut...</td>\n",
       "    </tr>\n",
       "    <tr>\n",
       "      <th>2</th>\n",
       "      <td>3</td>\n",
       "      <td>B000LQOCH0</td>\n",
       "      <td>ABXLMWJIXXAIN</td>\n",
       "      <td>Natalia Corres \"Natalia Corres\"</td>\n",
       "      <td>1</td>\n",
       "      <td>1</td>\n",
       "      <td>1</td>\n",
       "      <td>1219017600</td>\n",
       "      <td>\"Delight\" says it all</td>\n",
       "      <td>This is a confection that has been around a fe...</td>\n",
       "    </tr>\n",
       "  </tbody>\n",
       "</table>\n",
       "</div>"
      ],
      "text/plain": [
       "   Id   ProductId          UserId                      ProfileName  \\\n",
       "0   1  B001E4KFG0  A3SGXH7AUHU8GW                       delmartian   \n",
       "1   2  B00813GRG4  A1D87F6ZCVE5NK                           dll pa   \n",
       "2   3  B000LQOCH0   ABXLMWJIXXAIN  Natalia Corres \"Natalia Corres\"   \n",
       "\n",
       "   HelpfulnessNumerator  HelpfulnessDenominator  Score        Time  \\\n",
       "0                     1                       1      1  1303862400   \n",
       "1                     0                       0      0  1346976000   \n",
       "2                     1                       1      1  1219017600   \n",
       "\n",
       "                 Summary                                               Text  \n",
       "0  Good Quality Dog Food  I have bought several of the Vitality canned d...  \n",
       "1      Not as Advertised  Product arrived labeled as Jumbo Salted Peanut...  \n",
       "2  \"Delight\" says it all  This is a confection that has been around a fe...  "
      ]
     },
     "execution_count": 131,
     "metadata": {},
     "output_type": "execute_result"
    }
   ],
   "source": [
    "#Using the sqlite table to read data\n",
    "con = sqlite3.connect('/Users/krithishetty/Downloads/finefoodreviews/database.sqlite')\n",
    "# Filtering only Positive and Negative Reviews i.e not taking into consideration those reviews with score=3\n",
    "filtered_data= pd.read_sql_query(\"\"\"SELECT * FROM Reviews WHERE Score!=3\"\"\",con)\n",
    "#Given reviews with score>3 a postive rating \"1\" and reviews with score <3 a negative \"0\"\n",
    "#constucting a function\n",
    "def partition(x):\n",
    "    if x<3:\n",
    "        return 0\n",
    "    return 1\n",
    "#Changing reviews with score<3 to be negative \"0\" and score > 3 to be positive \"1\"\n",
    "actualscore=filtered_data['Score']\n",
    "Positve_Negative=actualscore.map(partition)\n",
    "filtered_data['Score']=Positve_Negative\n",
    "print(\"No. of data points in Dataset:\",filtered_data.shape)\n",
    "filtered_data.head(3)\n"
   ]
  },
  {
   "cell_type": "markdown",
   "metadata": {
    "papermill": {
     "duration": 0.126912,
     "end_time": "2021-03-22T18:01:56.214288",
     "exception": false,
     "start_time": "2021-03-22T18:01:56.087376",
     "status": "completed"
    },
    "tags": []
   },
   "source": [
    "# Exploratory Data Analysis\n",
    "\n",
    "### Data Deduplication{The most important part of cleaning data}\n",
    "It was observes that(as shown in table below) that the reviews data had many deduplicates entries .Hence it is neccessary to remove the deduplication in order to get unbaised results for the Analysis of the data.\n",
    "Following is the example given below"
   ]
  },
  {
   "cell_type": "code",
   "execution_count": 132,
   "metadata": {
    "execution": {
     "iopub.execute_input": "2021-03-22T18:01:56.351034Z",
     "iopub.status.busy": "2021-03-22T18:01:56.350100Z",
     "iopub.status.idle": "2021-03-22T18:02:02.598157Z",
     "shell.execute_reply": "2021-03-22T18:02:02.597151Z"
    },
    "papermill": {
     "duration": 6.317839,
     "end_time": "2021-03-22T18:02:02.598312",
     "exception": false,
     "start_time": "2021-03-22T18:01:56.280473",
     "status": "completed"
    },
    "tags": []
   },
   "outputs": [
    {
     "data": {
      "text/html": [
       "<div>\n",
       "<style scoped>\n",
       "    .dataframe tbody tr th:only-of-type {\n",
       "        vertical-align: middle;\n",
       "    }\n",
       "\n",
       "    .dataframe tbody tr th {\n",
       "        vertical-align: top;\n",
       "    }\n",
       "\n",
       "    .dataframe thead th {\n",
       "        text-align: right;\n",
       "    }\n",
       "</style>\n",
       "<table border=\"1\" class=\"dataframe\">\n",
       "  <thead>\n",
       "    <tr style=\"text-align: right;\">\n",
       "      <th></th>\n",
       "      <th>Id</th>\n",
       "      <th>ProductId</th>\n",
       "      <th>UserId</th>\n",
       "      <th>ProfileName</th>\n",
       "      <th>HelpfulnessNumerator</th>\n",
       "      <th>HelpfulnessDenominator</th>\n",
       "      <th>Score</th>\n",
       "      <th>Time</th>\n",
       "      <th>Summary</th>\n",
       "      <th>Text</th>\n",
       "    </tr>\n",
       "  </thead>\n",
       "  <tbody>\n",
       "    <tr>\n",
       "      <th>0</th>\n",
       "      <td>78445</td>\n",
       "      <td>B000HDL1RQ</td>\n",
       "      <td>AR5J8UI46CURR</td>\n",
       "      <td>Geetha Krishnan</td>\n",
       "      <td>2</td>\n",
       "      <td>2</td>\n",
       "      <td>5</td>\n",
       "      <td>1199577600</td>\n",
       "      <td>LOACKER QUADRATINI VANILLA WAFERS</td>\n",
       "      <td>DELICIOUS WAFERS. I FIND THAT EUROPEAN WAFERS ...</td>\n",
       "    </tr>\n",
       "    <tr>\n",
       "      <th>1</th>\n",
       "      <td>138317</td>\n",
       "      <td>B000HDOPYC</td>\n",
       "      <td>AR5J8UI46CURR</td>\n",
       "      <td>Geetha Krishnan</td>\n",
       "      <td>2</td>\n",
       "      <td>2</td>\n",
       "      <td>5</td>\n",
       "      <td>1199577600</td>\n",
       "      <td>LOACKER QUADRATINI VANILLA WAFERS</td>\n",
       "      <td>DELICIOUS WAFERS. I FIND THAT EUROPEAN WAFERS ...</td>\n",
       "    </tr>\n",
       "    <tr>\n",
       "      <th>2</th>\n",
       "      <td>138277</td>\n",
       "      <td>B000HDOPYM</td>\n",
       "      <td>AR5J8UI46CURR</td>\n",
       "      <td>Geetha Krishnan</td>\n",
       "      <td>2</td>\n",
       "      <td>2</td>\n",
       "      <td>5</td>\n",
       "      <td>1199577600</td>\n",
       "      <td>LOACKER QUADRATINI VANILLA WAFERS</td>\n",
       "      <td>DELICIOUS WAFERS. I FIND THAT EUROPEAN WAFERS ...</td>\n",
       "    </tr>\n",
       "    <tr>\n",
       "      <th>3</th>\n",
       "      <td>73791</td>\n",
       "      <td>B000HDOPZG</td>\n",
       "      <td>AR5J8UI46CURR</td>\n",
       "      <td>Geetha Krishnan</td>\n",
       "      <td>2</td>\n",
       "      <td>2</td>\n",
       "      <td>5</td>\n",
       "      <td>1199577600</td>\n",
       "      <td>LOACKER QUADRATINI VANILLA WAFERS</td>\n",
       "      <td>DELICIOUS WAFERS. I FIND THAT EUROPEAN WAFERS ...</td>\n",
       "    </tr>\n",
       "    <tr>\n",
       "      <th>4</th>\n",
       "      <td>155049</td>\n",
       "      <td>B000PAQ75C</td>\n",
       "      <td>AR5J8UI46CURR</td>\n",
       "      <td>Geetha Krishnan</td>\n",
       "      <td>2</td>\n",
       "      <td>2</td>\n",
       "      <td>5</td>\n",
       "      <td>1199577600</td>\n",
       "      <td>LOACKER QUADRATINI VANILLA WAFERS</td>\n",
       "      <td>DELICIOUS WAFERS. I FIND THAT EUROPEAN WAFERS ...</td>\n",
       "    </tr>\n",
       "  </tbody>\n",
       "</table>\n",
       "</div>"
      ],
      "text/plain": [
       "       Id   ProductId         UserId      ProfileName  HelpfulnessNumerator  \\\n",
       "0   78445  B000HDL1RQ  AR5J8UI46CURR  Geetha Krishnan                     2   \n",
       "1  138317  B000HDOPYC  AR5J8UI46CURR  Geetha Krishnan                     2   \n",
       "2  138277  B000HDOPYM  AR5J8UI46CURR  Geetha Krishnan                     2   \n",
       "3   73791  B000HDOPZG  AR5J8UI46CURR  Geetha Krishnan                     2   \n",
       "4  155049  B000PAQ75C  AR5J8UI46CURR  Geetha Krishnan                     2   \n",
       "\n",
       "   HelpfulnessDenominator  Score        Time  \\\n",
       "0                       2      5  1199577600   \n",
       "1                       2      5  1199577600   \n",
       "2                       2      5  1199577600   \n",
       "3                       2      5  1199577600   \n",
       "4                       2      5  1199577600   \n",
       "\n",
       "                             Summary  \\\n",
       "0  LOACKER QUADRATINI VANILLA WAFERS   \n",
       "1  LOACKER QUADRATINI VANILLA WAFERS   \n",
       "2  LOACKER QUADRATINI VANILLA WAFERS   \n",
       "3  LOACKER QUADRATINI VANILLA WAFERS   \n",
       "4  LOACKER QUADRATINI VANILLA WAFERS   \n",
       "\n",
       "                                                Text  \n",
       "0  DELICIOUS WAFERS. I FIND THAT EUROPEAN WAFERS ...  \n",
       "1  DELICIOUS WAFERS. I FIND THAT EUROPEAN WAFERS ...  \n",
       "2  DELICIOUS WAFERS. I FIND THAT EUROPEAN WAFERS ...  \n",
       "3  DELICIOUS WAFERS. I FIND THAT EUROPEAN WAFERS ...  \n",
       "4  DELICIOUS WAFERS. I FIND THAT EUROPEAN WAFERS ...  "
      ]
     },
     "execution_count": 132,
     "metadata": {},
     "output_type": "execute_result"
    }
   ],
   "source": [
    "display= pd.read_sql_query(\"\"\"SELECT * FROM Reviews WHERE Score !=3 AND UserId ='AR5J8UI46CURR' ORDER BY ProductId \"\"\",con)\n",
    "display"
   ]
  },
  {
   "cell_type": "markdown",
   "metadata": {
    "papermill": {
     "duration": 0.068516,
     "end_time": "2021-03-22T18:02:02.737538",
     "exception": false,
     "start_time": "2021-03-22T18:02:02.669022",
     "status": "completed"
    },
    "tags": []
   },
   "source": [
    "**As it can be seen above the same user has multiple reviews of the same values for HelpfulnessNumerator, HelpfulnessDenominator, Score, Time, Summary and Text and on doing analysis it was found that ProductId=B000HDOPZG was Loacker Quadratini Vanilla Wafer Cookies, 8.82-Ounce Packages (Pack of 8)**\n",
    "\n",
    "**ProductId=B000HDL1RQ was Loacker Quadratini Lemon Wafer Cookies, 8.82-Ounce Packages (Pack of 8) and so on**\n",
    "\n",
    "**It was inferred after analysis that reviews with same parameters other than ProductId belonged to the same product just having different flavour or quantity. Hence in order to reduce redundancy it was decided to eliminate the rows having same parameters.**\n",
    "\n",
    "**The method used for the same was that we first sort the data according to ProductId and then just keep the first similar product review and delelte the others. for eg. in the above just the review for ProductId=B000HDL1RQ remains. This method ensures that there is only one representative for each product and deduplication without sorting would lead to possibility of different representatives still existing for the same product**"
   ]
  },
  {
   "cell_type": "code",
   "execution_count": 133,
   "metadata": {
    "execution": {
     "iopub.execute_input": "2021-03-22T18:02:02.932460Z",
     "iopub.status.busy": "2021-03-22T18:02:02.930602Z",
     "iopub.status.idle": "2021-03-22T18:02:03.900233Z",
     "shell.execute_reply": "2021-03-22T18:02:03.899618Z"
    },
    "papermill": {
     "duration": 1.094285,
     "end_time": "2021-03-22T18:02:03.900385",
     "exception": false,
     "start_time": "2021-03-22T18:02:02.806100",
     "status": "completed"
    },
    "tags": []
   },
   "outputs": [
    {
     "data": {
      "text/html": [
       "<div>\n",
       "<style scoped>\n",
       "    .dataframe tbody tr th:only-of-type {\n",
       "        vertical-align: middle;\n",
       "    }\n",
       "\n",
       "    .dataframe tbody tr th {\n",
       "        vertical-align: top;\n",
       "    }\n",
       "\n",
       "    .dataframe thead th {\n",
       "        text-align: right;\n",
       "    }\n",
       "</style>\n",
       "<table border=\"1\" class=\"dataframe\">\n",
       "  <thead>\n",
       "    <tr style=\"text-align: right;\">\n",
       "      <th></th>\n",
       "      <th>Id</th>\n",
       "      <th>ProductId</th>\n",
       "      <th>UserId</th>\n",
       "      <th>ProfileName</th>\n",
       "      <th>HelpfulnessNumerator</th>\n",
       "      <th>HelpfulnessDenominator</th>\n",
       "      <th>Score</th>\n",
       "      <th>Time</th>\n",
       "      <th>Summary</th>\n",
       "      <th>Text</th>\n",
       "    </tr>\n",
       "  </thead>\n",
       "  <tbody>\n",
       "    <tr>\n",
       "      <th>0</th>\n",
       "      <td>78445</td>\n",
       "      <td>B000HDL1RQ</td>\n",
       "      <td>AR5J8UI46CURR</td>\n",
       "      <td>Geetha Krishnan</td>\n",
       "      <td>2</td>\n",
       "      <td>2</td>\n",
       "      <td>5</td>\n",
       "      <td>1199577600</td>\n",
       "      <td>LOACKER QUADRATINI VANILLA WAFERS</td>\n",
       "      <td>DELICIOUS WAFERS. I FIND THAT EUROPEAN WAFERS ...</td>\n",
       "    </tr>\n",
       "    <tr>\n",
       "      <th>1</th>\n",
       "      <td>138317</td>\n",
       "      <td>B000HDOPYC</td>\n",
       "      <td>AR5J8UI46CURR</td>\n",
       "      <td>Geetha Krishnan</td>\n",
       "      <td>2</td>\n",
       "      <td>2</td>\n",
       "      <td>5</td>\n",
       "      <td>1199577600</td>\n",
       "      <td>LOACKER QUADRATINI VANILLA WAFERS</td>\n",
       "      <td>DELICIOUS WAFERS. I FIND THAT EUROPEAN WAFERS ...</td>\n",
       "    </tr>\n",
       "    <tr>\n",
       "      <th>2</th>\n",
       "      <td>138277</td>\n",
       "      <td>B000HDOPYM</td>\n",
       "      <td>AR5J8UI46CURR</td>\n",
       "      <td>Geetha Krishnan</td>\n",
       "      <td>2</td>\n",
       "      <td>2</td>\n",
       "      <td>5</td>\n",
       "      <td>1199577600</td>\n",
       "      <td>LOACKER QUADRATINI VANILLA WAFERS</td>\n",
       "      <td>DELICIOUS WAFERS. I FIND THAT EUROPEAN WAFERS ...</td>\n",
       "    </tr>\n",
       "    <tr>\n",
       "      <th>3</th>\n",
       "      <td>73791</td>\n",
       "      <td>B000HDOPZG</td>\n",
       "      <td>AR5J8UI46CURR</td>\n",
       "      <td>Geetha Krishnan</td>\n",
       "      <td>2</td>\n",
       "      <td>2</td>\n",
       "      <td>5</td>\n",
       "      <td>1199577600</td>\n",
       "      <td>LOACKER QUADRATINI VANILLA WAFERS</td>\n",
       "      <td>DELICIOUS WAFERS. I FIND THAT EUROPEAN WAFERS ...</td>\n",
       "    </tr>\n",
       "    <tr>\n",
       "      <th>4</th>\n",
       "      <td>155049</td>\n",
       "      <td>B000PAQ75C</td>\n",
       "      <td>AR5J8UI46CURR</td>\n",
       "      <td>Geetha Krishnan</td>\n",
       "      <td>2</td>\n",
       "      <td>2</td>\n",
       "      <td>5</td>\n",
       "      <td>1199577600</td>\n",
       "      <td>LOACKER QUADRATINI VANILLA WAFERS</td>\n",
       "      <td>DELICIOUS WAFERS. I FIND THAT EUROPEAN WAFERS ...</td>\n",
       "    </tr>\n",
       "  </tbody>\n",
       "</table>\n",
       "</div>"
      ],
      "text/plain": [
       "       Id   ProductId         UserId      ProfileName  HelpfulnessNumerator  \\\n",
       "0   78445  B000HDL1RQ  AR5J8UI46CURR  Geetha Krishnan                     2   \n",
       "1  138317  B000HDOPYC  AR5J8UI46CURR  Geetha Krishnan                     2   \n",
       "2  138277  B000HDOPYM  AR5J8UI46CURR  Geetha Krishnan                     2   \n",
       "3   73791  B000HDOPZG  AR5J8UI46CURR  Geetha Krishnan                     2   \n",
       "4  155049  B000PAQ75C  AR5J8UI46CURR  Geetha Krishnan                     2   \n",
       "\n",
       "   HelpfulnessDenominator  Score        Time  \\\n",
       "0                       2      5  1199577600   \n",
       "1                       2      5  1199577600   \n",
       "2                       2      5  1199577600   \n",
       "3                       2      5  1199577600   \n",
       "4                       2      5  1199577600   \n",
       "\n",
       "                             Summary  \\\n",
       "0  LOACKER QUADRATINI VANILLA WAFERS   \n",
       "1  LOACKER QUADRATINI VANILLA WAFERS   \n",
       "2  LOACKER QUADRATINI VANILLA WAFERS   \n",
       "3  LOACKER QUADRATINI VANILLA WAFERS   \n",
       "4  LOACKER QUADRATINI VANILLA WAFERS   \n",
       "\n",
       "                                                Text  \n",
       "0  DELICIOUS WAFERS. I FIND THAT EUROPEAN WAFERS ...  \n",
       "1  DELICIOUS WAFERS. I FIND THAT EUROPEAN WAFERS ...  \n",
       "2  DELICIOUS WAFERS. I FIND THAT EUROPEAN WAFERS ...  \n",
       "3  DELICIOUS WAFERS. I FIND THAT EUROPEAN WAFERS ...  \n",
       "4  DELICIOUS WAFERS. I FIND THAT EUROPEAN WAFERS ...  "
      ]
     },
     "execution_count": 133,
     "metadata": {},
     "output_type": "execute_result"
    }
   ],
   "source": [
    "#Sorting data according to ProductId in ascending order\n",
    "sorted_data=filtered_data.sort_values(\"ProductId\",axis=0,ascending=True,inplace=False,kind='quicksort',na_position='last')\n",
    "display.head()\n"
   ]
  },
  {
   "cell_type": "code",
   "execution_count": 134,
   "metadata": {
    "execution": {
     "iopub.execute_input": "2021-03-22T18:02:04.077662Z",
     "iopub.status.busy": "2021-03-22T18:02:04.076711Z",
     "iopub.status.idle": "2021-03-22T18:02:05.226346Z",
     "shell.execute_reply": "2021-03-22T18:02:05.225304Z"
    },
    "papermill": {
     "duration": 1.257172,
     "end_time": "2021-03-22T18:02:05.226501",
     "exception": false,
     "start_time": "2021-03-22T18:02:03.969329",
     "status": "completed"
    },
    "tags": []
   },
   "outputs": [
    {
     "data": {
      "text/plain": [
       "(364173, 10)"
      ]
     },
     "execution_count": 134,
     "metadata": {},
     "output_type": "execute_result"
    }
   ],
   "source": [
    "#Deduplication entries\n",
    "final_data=sorted_data.drop_duplicates(subset={\"UserId\",\"ProfileName\",\"Time\",\"Text\"},keep='first',inplace=False)\n",
    "final_data.shape"
   ]
  },
  {
   "cell_type": "code",
   "execution_count": 135,
   "metadata": {
    "execution": {
     "iopub.execute_input": "2021-03-22T18:02:05.372065Z",
     "iopub.status.busy": "2021-03-22T18:02:05.371077Z",
     "iopub.status.idle": "2021-03-22T18:02:05.376473Z",
     "shell.execute_reply": "2021-03-22T18:02:05.377897Z"
    },
    "papermill": {
     "duration": 0.082083,
     "end_time": "2021-03-22T18:02:05.378254",
     "exception": false,
     "start_time": "2021-03-22T18:02:05.296171",
     "status": "completed"
    },
    "tags": []
   },
   "outputs": [
    {
     "name": "stdout",
     "output_type": "stream",
     "text": [
      "The total data remain after cleaning data  69.25890143662969\n"
     ]
    }
   ],
   "source": [
    "#Checking to see how much % of data still remains\n",
    "print('The total data remain after cleaning data ',(final_data['Id'].size*1.0)/(filtered_data['Id'].size*1.0)*100)"
   ]
  },
  {
   "cell_type": "code",
   "execution_count": 136,
   "metadata": {
    "execution": {
     "iopub.execute_input": "2021-03-22T18:02:05.522606Z",
     "iopub.status.busy": "2021-03-22T18:02:05.521929Z",
     "iopub.status.idle": "2021-03-22T18:02:05.555488Z",
     "shell.execute_reply": "2021-03-22T18:02:05.554305Z"
    },
    "papermill": {
     "duration": 0.107391,
     "end_time": "2021-03-22T18:02:05.555640",
     "exception": false,
     "start_time": "2021-03-22T18:02:05.448249",
     "status": "completed"
    },
    "tags": []
   },
   "outputs": [
    {
     "data": {
      "text/html": [
       "<div>\n",
       "<style scoped>\n",
       "    .dataframe tbody tr th:only-of-type {\n",
       "        vertical-align: middle;\n",
       "    }\n",
       "\n",
       "    .dataframe tbody tr th {\n",
       "        vertical-align: top;\n",
       "    }\n",
       "\n",
       "    .dataframe thead th {\n",
       "        text-align: right;\n",
       "    }\n",
       "</style>\n",
       "<table border=\"1\" class=\"dataframe\">\n",
       "  <thead>\n",
       "    <tr style=\"text-align: right;\">\n",
       "      <th></th>\n",
       "      <th>Id</th>\n",
       "      <th>ProductId</th>\n",
       "      <th>UserId</th>\n",
       "      <th>ProfileName</th>\n",
       "      <th>HelpfulnessNumerator</th>\n",
       "      <th>HelpfulnessDenominator</th>\n",
       "      <th>Score</th>\n",
       "      <th>Time</th>\n",
       "      <th>Summary</th>\n",
       "      <th>Text</th>\n",
       "    </tr>\n",
       "  </thead>\n",
       "  <tbody>\n",
       "    <tr>\n",
       "      <th>59301</th>\n",
       "      <td>64422</td>\n",
       "      <td>B000MIDROQ</td>\n",
       "      <td>A161DK06JJMCYF</td>\n",
       "      <td>J. E. Stephens \"Jeanne\"</td>\n",
       "      <td>3</td>\n",
       "      <td>1</td>\n",
       "      <td>1</td>\n",
       "      <td>1224892800</td>\n",
       "      <td>Bought This for My Son at College</td>\n",
       "      <td>My son loves spaghetti so I didn't hesitate or...</td>\n",
       "    </tr>\n",
       "    <tr>\n",
       "      <th>41159</th>\n",
       "      <td>44737</td>\n",
       "      <td>B001EQ55RW</td>\n",
       "      <td>A2V0I904FH7ABY</td>\n",
       "      <td>Ram</td>\n",
       "      <td>3</td>\n",
       "      <td>2</td>\n",
       "      <td>1</td>\n",
       "      <td>1212883200</td>\n",
       "      <td>Pure cocoa taste with crunchy almonds inside</td>\n",
       "      <td>It was almost a 'love at first bite' - the per...</td>\n",
       "    </tr>\n",
       "  </tbody>\n",
       "</table>\n",
       "</div>"
      ],
      "text/plain": [
       "          Id   ProductId          UserId              ProfileName  \\\n",
       "59301  64422  B000MIDROQ  A161DK06JJMCYF  J. E. Stephens \"Jeanne\"   \n",
       "41159  44737  B001EQ55RW  A2V0I904FH7ABY                      Ram   \n",
       "\n",
       "       HelpfulnessNumerator  HelpfulnessDenominator  Score        Time  \\\n",
       "59301                     3                       1      1  1224892800   \n",
       "41159                     3                       2      1  1212883200   \n",
       "\n",
       "                                            Summary  \\\n",
       "59301             Bought This for My Son at College   \n",
       "41159  Pure cocoa taste with crunchy almonds inside   \n",
       "\n",
       "                                                    Text  \n",
       "59301  My son loves spaghetti so I didn't hesitate or...  \n",
       "41159  It was almost a 'love at first bite' - the per...  "
      ]
     },
     "execution_count": 136,
     "metadata": {},
     "output_type": "execute_result"
    }
   ],
   "source": [
    "final_data[final_data['HelpfulnessNumerator']>final_data['HelpfulnessDenominator']]"
   ]
  },
  {
   "cell_type": "code",
   "execution_count": 137,
   "metadata": {
    "execution": {
     "iopub.execute_input": "2021-03-22T18:02:05.699226Z",
     "iopub.status.busy": "2021-03-22T18:02:05.698242Z",
     "iopub.status.idle": "2021-03-22T18:02:05.760408Z",
     "shell.execute_reply": "2021-03-22T18:02:05.761411Z"
    },
    "papermill": {
     "duration": 0.137368,
     "end_time": "2021-03-22T18:02:05.761574",
     "exception": false,
     "start_time": "2021-03-22T18:02:05.624206",
     "status": "completed"
    },
    "tags": []
   },
   "outputs": [
    {
     "data": {
      "text/html": [
       "<div>\n",
       "<style scoped>\n",
       "    .dataframe tbody tr th:only-of-type {\n",
       "        vertical-align: middle;\n",
       "    }\n",
       "\n",
       "    .dataframe tbody tr th {\n",
       "        vertical-align: top;\n",
       "    }\n",
       "\n",
       "    .dataframe thead th {\n",
       "        text-align: right;\n",
       "    }\n",
       "</style>\n",
       "<table border=\"1\" class=\"dataframe\">\n",
       "  <thead>\n",
       "    <tr style=\"text-align: right;\">\n",
       "      <th></th>\n",
       "      <th>Id</th>\n",
       "      <th>ProductId</th>\n",
       "      <th>UserId</th>\n",
       "      <th>ProfileName</th>\n",
       "      <th>HelpfulnessNumerator</th>\n",
       "      <th>HelpfulnessDenominator</th>\n",
       "      <th>Score</th>\n",
       "      <th>Time</th>\n",
       "      <th>Summary</th>\n",
       "      <th>Text</th>\n",
       "    </tr>\n",
       "  </thead>\n",
       "  <tbody>\n",
       "    <tr>\n",
       "      <th>0</th>\n",
       "      <td>64422</td>\n",
       "      <td>B000MIDROQ</td>\n",
       "      <td>A161DK06JJMCYF</td>\n",
       "      <td>J. E. Stephens \"Jeanne\"</td>\n",
       "      <td>3</td>\n",
       "      <td>1</td>\n",
       "      <td>5</td>\n",
       "      <td>1224892800</td>\n",
       "      <td>Bought This for My Son at College</td>\n",
       "      <td>My son loves spaghetti so I didn't hesitate or...</td>\n",
       "    </tr>\n",
       "    <tr>\n",
       "      <th>1</th>\n",
       "      <td>44737</td>\n",
       "      <td>B001EQ55RW</td>\n",
       "      <td>A2V0I904FH7ABY</td>\n",
       "      <td>Ram</td>\n",
       "      <td>3</td>\n",
       "      <td>2</td>\n",
       "      <td>4</td>\n",
       "      <td>1212883200</td>\n",
       "      <td>Pure cocoa taste with crunchy almonds inside</td>\n",
       "      <td>It was almost a 'love at first bite' - the per...</td>\n",
       "    </tr>\n",
       "  </tbody>\n",
       "</table>\n",
       "</div>"
      ],
      "text/plain": [
       "      Id   ProductId          UserId              ProfileName  \\\n",
       "0  64422  B000MIDROQ  A161DK06JJMCYF  J. E. Stephens \"Jeanne\"   \n",
       "1  44737  B001EQ55RW  A2V0I904FH7ABY                      Ram   \n",
       "\n",
       "   HelpfulnessNumerator  HelpfulnessDenominator  Score        Time  \\\n",
       "0                     3                       1      5  1224892800   \n",
       "1                     3                       2      4  1212883200   \n",
       "\n",
       "                                        Summary  \\\n",
       "0             Bought This for My Son at College   \n",
       "1  Pure cocoa taste with crunchy almonds inside   \n",
       "\n",
       "                                                Text  \n",
       "0  My son loves spaghetti so I didn't hesitate or...  \n",
       "1  It was almost a 'love at first bite' - the per...  "
      ]
     },
     "execution_count": 137,
     "metadata": {},
     "output_type": "execute_result"
    }
   ],
   "source": [
    "display=pd.read_sql_query(\"\"\"SELECT * FROM Reviews WHERE Score!=3 AND Id=44737 OR Id=64422\n",
    "ORDER BY ProductID\"\"\",con)\n",
    "display.head()"
   ]
  },
  {
   "cell_type": "markdown",
   "metadata": {
    "papermill": {
     "duration": 0.130419,
     "end_time": "2021-03-22T18:02:05.962469",
     "exception": false,
     "start_time": "2021-03-22T18:02:05.832050",
     "status": "completed"
    },
    "tags": []
   },
   "source": [
    "**Observation:** It was seen that in 2 rows given above the value of HelpfullnessNumerator is Greater than HelpfullnessDenominator which is not practically hence such rows are too removed from dataset"
   ]
  },
  {
   "cell_type": "code",
   "execution_count": 138,
   "metadata": {
    "execution": {
     "iopub.execute_input": "2021-03-22T18:02:06.232242Z",
     "iopub.status.busy": "2021-03-22T18:02:06.230930Z",
     "iopub.status.idle": "2021-03-22T18:02:06.403169Z",
     "shell.execute_reply": "2021-03-22T18:02:06.402336Z"
    },
    "papermill": {
     "duration": 0.298979,
     "end_time": "2021-03-22T18:02:06.403439",
     "exception": false,
     "start_time": "2021-03-22T18:02:06.104460",
     "status": "completed"
    },
    "tags": []
   },
   "outputs": [
    {
     "data": {
      "text/plain": [
       "(364171, 10)"
      ]
     },
     "execution_count": 138,
     "metadata": {},
     "output_type": "execute_result"
    }
   ],
   "source": [
    "final_data=final_data[final_data['HelpfulnessNumerator']<=final_data['HelpfulnessDenominator']]\n",
    "final_data.shape"
   ]
  },
  {
   "cell_type": "code",
   "execution_count": 139,
   "metadata": {
    "execution": {
     "iopub.execute_input": "2021-03-22T18:02:06.734125Z",
     "iopub.status.busy": "2021-03-22T18:02:06.733121Z",
     "iopub.status.idle": "2021-03-22T18:02:07.127292Z",
     "shell.execute_reply": "2021-03-22T18:02:07.128458Z"
    },
    "papermill": {
     "duration": 0.58914,
     "end_time": "2021-03-22T18:02:07.128693",
     "exception": false,
     "start_time": "2021-03-22T18:02:06.539553",
     "status": "completed"
    },
    "tags": []
   },
   "outputs": [
    {
     "name": "stdout",
     "output_type": "stream",
     "text": [
      "(364171, 10)\n"
     ]
    },
    {
     "data": {
      "image/png": "[encoded data removed]",
      "text/plain": [
       "<Figure size 1000x600 with 1 Axes>"
      ]
     },
     "metadata": {},
     "output_type": "display_data"
    },
    {
     "data": {
      "text/plain": [
       "Text(0, 0.5, 'Score')"
      ]
     },
     "execution_count": 139,
     "metadata": {},
     "output_type": "execute_result"
    },
    {
     "data": {
      "image/png": "[encoded data removed]",
      "text/plain": [
       "<Figure size 1000x600 with 1 Axes>"
      ]
     },
     "metadata": {},
     "output_type": "display_data"
    }
   ],
   "source": [
    "# before starting the next phase of text preprocessing lets see the no. of entries left\n",
    "print(final_data.shape)\n",
    "#How many positive and negative reviews are present in our dataset?\n",
    "final_data['Score'].value_counts()\n",
    "sns.set(style=\"whitegrid\")\n",
    "custom_palette = sns.color_palette(\"Set2\")\n",
    "\n",
    "# Create a count plot for the 'Score' column with the custom palette\n",
    "plt.figure(figsize=(10, 6))\n",
    "sns.countplot(x='Score', data=final_data, palette=custom_palette)\n",
    "plt.title('Distribution of Review Scores', fontsize=16)\n",
    "plt.xlabel('Score', fontsize=14)\n",
    "plt.ylabel('Count', fontsize=14)\n",
    "plt.show()\n",
    "\n",
    "# Create a count plot with 'Score' on the y-axis using the custom palette\n",
    "plt.figure(figsize=(10, 6))\n",
    "sns.countplot(y='Score', data=final_data, palette=custom_palette)\n",
    "plt.title('Distribution of Review Scores', fontsize=16)\n",
    "plt.xlabel('Count', fontsize=14)\n",
    "plt.ylabel('Score', fontsize=14)"
   ]
  },
  {
   "cell_type": "markdown",
   "metadata": {
    "papermill": {
     "duration": 0.075573,
     "end_time": "2021-03-22T18:02:07.327979",
     "exception": false,
     "start_time": "2021-03-22T18:02:07.252406",
     "status": "completed"
    },
    "tags": []
   },
   "source": [
    "# Text Preprocessing\n",
    "**Now we have finished deduplication. Now our data requires some preprocessing before we go on futher anlysis and make the prediction model Hence in the preprocessing phase we do the following steps given below**\n",
    "\n",
    "1. Begin by removing html tags\n",
    "1. Removing any punctution or limited set of special character:like ,or . or # etc\n",
    "1. Check the words is made up of english letters and is not alpha-numeric\n",
    "1. Check to see if the length of the words is greater than 2 (as it was research that there is no adjective in 2 letter)\n",
    "1. Convert the words to lowercase\n",
    "1. Remove stopwords\n",
    "1. Snowball stemming the word(it is observed that Snoball stemming is better that Porter stemming)\n",
    "\n",
    "***After this we will collect the words and will use to describe positive and negative reviews.***"
   ]
  },
  {
   "cell_type": "code",
   "execution_count": 140,
   "metadata": {
    "execution": {
     "iopub.execute_input": "2021-03-22T18:02:07.484214Z",
     "iopub.status.busy": "2021-03-22T18:02:07.482340Z",
     "iopub.status.idle": "2021-03-22T18:02:07.486950Z",
     "shell.execute_reply": "2021-03-22T18:02:07.484872Z"
    },
    "papermill": {
     "duration": 0.084934,
     "end_time": "2021-03-22T18:02:07.487091",
     "exception": false,
     "start_time": "2021-03-22T18:02:07.402157",
     "status": "completed"
    },
    "tags": []
   },
   "outputs": [
    {
     "name": "stdout",
     "output_type": "stream",
     "text": [
      "First review containing HTML tags:\n",
      "I set aside at least an hour each day to read to my son (3 y/o). At this point, I consider myself a connoisseur of children's books and this is one of the best. Santa Clause put this under the tree. Since then, we've read it perpetually and he loves it.<br /><br />First, this book taught him the months of the year.<br /><br />Second, it's a pleasure to read. Well suited to 1.5 y/o old to 4+.<br /><br />Very few children's books are worth owning. Most should be borrowed from the library. This book, however, deserves a permanent spot on your shelf. Sendak's best.\n",
      "Found at index: 6\n"
     ]
    }
   ],
   "source": [
    "import re\n",
    "\n",
    "# Finding the first review with HTML tags\n",
    "for i, review in enumerate(final_data['Text'].values):\n",
    "    # Use regex to find HTML tags in the review text\n",
    "    if re.search(r'<.*?>', review):\n",
    "        print(\"First review containing HTML tags:\")\n",
    "        print(review)\n",
    "        print(f\"Found at index: {i}\")\n",
    "        break\n",
    "else:\n",
    "    print(\"No HTML tags found in any review.\")\n"
   ]
  },
  {
   "cell_type": "code",
   "execution_count": 141,
   "metadata": {
    "execution": {
     "iopub.execute_input": "2021-03-22T18:02:07.642807Z",
     "iopub.status.busy": "2021-03-22T18:02:07.642028Z",
     "iopub.status.idle": "2021-03-22T18:02:07.657168Z",
     "shell.execute_reply": "2021-03-22T18:02:07.657997Z"
    },
    "papermill": {
     "duration": 0.100016,
     "end_time": "2021-03-22T18:02:07.658252",
     "exception": false,
     "start_time": "2021-03-22T18:02:07.558236",
     "status": "completed"
    },
    "tags": []
   },
   "outputs": [
    {
     "name": "stdout",
     "output_type": "stream",
     "text": [
      "Original stopwords: {'once', 'own', 'very', 'weren', 'how', 'be', 'each', 'when', 'was', 'ours', 've', 'because', \"shouldn't\", 'than', 'which', 'any', 'or', 'under', 'above', 'to', 'me', 'aren', 'while', 'himself', \"you've\", 'll', 'an', 'our', 'couldn', 'its', 'mustn', \"you'll\", 'didn', 'doesn', 'who', 'had', 'no', 'ain', 'being', 'did', 'what', 'and', 'his', 'her', 'other', 'those', 'a', 't', 'with', 'further', 'all', 'themselves', \"doesn't\", 'has', 'shan', 's', 'them', 'the', 'should', \"weren't\", 'were', 'between', 'not', 'nor', 'theirs', 'out', 'you', 'against', 'why', \"don't\", 'that', \"haven't\", 'haven', 'isn', 'don', 'are', \"couldn't\", 'your', 'will', 'ma', 'only', 'i', 'hers', 'can', \"didn't\", \"hadn't\", 'hasn', 'herself', 'have', 'doing', 'hadn', 'here', 'few', \"she's\", 'during', 'she', \"mightn't\", 'is', 'at', 'this', 'but', 'off', \"that'll\", \"isn't\", 'won', 'then', 'been', \"aren't\", 'up', 'y', 'into', 'they', 'over', 'from', 'wasn', 'if', 'o', \"shan't\", 'having', 'after', 'am', 'some', 'until', 'just', \"you're\", 'does', 'm', 'on', 'these', \"wasn't\", 'ourselves', 'below', \"hasn't\", 'yours', 'him', 'by', 'where', 'more', 'needn', 'as', 'down', \"won't\", 'myself', 'of', \"wouldn't\", 'd', 'again', 'there', 're', 'about', 'both', 'so', 'it', \"you'd\", 'through', 'most', 'too', 'mightn', 'wouldn', \"it's\", 'such', 'yourself', 'whom', 'shouldn', 'yourselves', 'itself', \"needn't\", 'same', 'before', 'their', \"should've\", 'we', 'my', 'do', \"mustn't\", 'in', 'now', 'for', 'he'}\n",
      "************************************************************\n",
      "Customized stopwords: ['once', 'own', 'very', 'how', 'be', 'each', 'when', 'was', 'ours', 've', 'because', 'than', 'which', 'any', 'or', 'under', 'above', 'to', 'me', 'while', 'himself', \"you've\", 'll', 'an', 'our', 'its', \"you'll\", 'who', 'had', 'no', 'being', 'did', 'what', 'and', 'his', 'her', 'other', 'those', 'a', 't', 'with', 'further', 'all', 'themselves', 'has', 'shan', 's', 'them', 'the', 'should', 'were', 'between', 'nor', 'theirs', 'out', 'you', 'why', 'that', 'are', 'your', 'will', 'ma', 'only', 'i', 'hers', 'can', 'herself', 'have', 'doing', 'here', 'few', \"she's\", 'during', 'she', 'is', 'at', 'this', 'but', 'off', \"that'll\", 'then', 'been', 'up', 'y', 'into', 'they', 'over', 'from', 'if', 'o', \"shan't\", 'having', 'after', 'am', 'some', 'until', 'just', \"you're\", 'does', 'm', 'on', 'these', 'ourselves', 'below', 'yours', 'him', 'by', 'where', 'more', 'as', 'down', 'myself', 'of', 'd', 'again', 'there', 're', 'about', 'both', 'so', 'it', \"you'd\", 'through', 'most', 'too', \"it's\", 'such', 'yourself', 'whom', 'yourselves', 'itself', 'same', 'before', 'their', \"should've\", 'we', 'my', 'do', 'in', 'now', 'for', 'he']\n",
      "\n",
      " ************************************************************\n",
      "Stemmed word for 'tasty': tasti\n"
     ]
    }
   ],
   "source": [
    "import re\n",
    "import string\n",
    "import nltk\n",
    "from nltk.corpus import stopwords\n",
    "from nltk.stem import SnowballStemmer\n",
    "\n",
    "# Initialize stopwords and customize the list\n",
    "stop_words = set(stopwords.words('english'))  # Create a set of stopwords from NLTK\n",
    "print(\"Original stopwords:\", stop_words)  # Display all stopwords in NLTK\n",
    "\n",
    "# List of stopwords to exclude\n",
    "excluding_stop = [\n",
    "    'against', 'not', 'don', \"don't\", 'ain', 'aren', \"aren't\", 'couldn', \"couldn't\", \n",
    "    'didn', \"didn't\", 'doesn', \"doesn't\", 'hadn', \"hadn't\", 'hasn', \"hasn't\", \n",
    "    'haven', \"haven't\", 'isn', \"isn't\", 'mightn', \"mightn't\", 'mustn', \"mustn't\", \n",
    "    'needn', \"needn't\", 'shouldn', \"shouldn't\", 'wasn', \"wasn't\", 'weren', \"weren't\", \n",
    "    'won', \"won't\", 'wouldn', \"wouldn't\"\n",
    "]\n",
    "\n",
    "# Remove excluded stopwords from the stop_words set\n",
    "stop_words = [word for word in stop_words if word not in excluding_stop]\n",
    "\n",
    "print(\"****\" * 15)\n",
    "print(\"Customized stopwords:\", stop_words)\n",
    "\n",
    "# Initialize the Snowball Stemmer\n",
    "snowball_stemmer = SnowballStemmer('english')\n",
    "print(\"\\n\", \"****\" * 15)\n",
    "print(\"Stemmed word for 'tasty':\", snowball_stemmer.stem('tasty'))  # Stemming example\n",
    "\n",
    "# Function to clean HTML tags from a sentence\n",
    "def clean_html(text):\n",
    "    \"\"\"\n",
    "    Remove HTML tags from the given text.\n",
    "    \n",
    "    :param text: The input string that may contain HTML tags.\n",
    "    :return: A string with HTML tags removed.\n",
    "    \"\"\"\n",
    "    cleanr = re.compile('<.*?>')\n",
    "    cleantext = re.sub(cleanr, ' ', text)\n",
    "    return cleantext\n",
    "\n",
    "# Function to clean punctuation or special characters from a sentence\n",
    "def clean_punctuation(text):\n",
    "    \"\"\"\n",
    "    Remove punctuation and special characters from the given text.\n",
    "    \n",
    "    :param text: The input string that may contain punctuation or special characters.\n",
    "    :return: A cleaned string without specified characters.\n",
    "    \"\"\"\n",
    "    cleaned = re.sub(r'[?|!|\\'|\"|#]', r'', text)\n",
    "    cleaned = re.sub(r'[.|,|)|(|\\|/]', r'', cleaned)\n",
    "    return cleaned\n"
   ]
  },
  {
   "cell_type": "code",
   "execution_count": 142,
   "metadata": {
    "execution": {
     "iopub.execute_input": "2021-03-22T18:02:07.824006Z",
     "iopub.status.busy": "2021-03-22T18:02:07.822818Z",
     "iopub.status.idle": "2021-03-22T18:02:07.830658Z",
     "shell.execute_reply": "2021-03-22T18:02:07.830087Z"
    },
    "papermill": {
     "duration": 0.092111,
     "end_time": "2021-03-22T18:02:07.830834",
     "exception": false,
     "start_time": "2021-03-22T18:02:07.738723",
     "status": "completed"
    },
    "tags": []
   },
   "outputs": [
    {
     "name": "stdout",
     "output_type": "stream",
     "text": [
      "I set aside at least an hour each day to read to my son (3 y/o). At this point, I consider myself a connoisseur of children's books and this is one of the best. Santa Clause put this under the tree. Since then, we've read it perpetually and he loves it.<br /><br />First, this book taught him the months of the year.<br /><br />Second, it's a pleasure to read. Well suited to 1.5 y/o old to 4+.<br /><br />Very few children's books are worth owning. Most should be borrowed from the library. This book, however, deserves a permanent spot on your shelf. Sendak's best.\n",
      "==================================================\n",
      "I was really looking forward to these pods based on the reviews.  Starbucks is good, but I prefer bolder taste.... imagine my surprise when I ordered 2 boxes - both were expired! One expired back in 2005 for gosh sakes.  I admit that Amazon agreed to credit me for cost plus part of shipping, but geez, 2 years expired!!!  I'm hoping to find local San Diego area shoppe that carries pods so that I can try something different than starbucks.\n",
      "==================================================\n",
      "Great ingredients although, chicken should have been 1st rather than chicken broth, the only thing I do not think belongs in it is Canola oil. Canola or rapeseed is not someting a dog would ever find in nature and if it did find rapeseed in nature and eat it, it would poison them. Today's Food industries have convinced the masses that Canola oil is a safe and even better oil than olive or virgin coconut, facts though say otherwise. Until the late 70's it was poisonous until they figured out a way to fix that. I still like it but it could be better.\n",
      "==================================================\n",
      "Can't do sugar.  Have tried scores of SF Syrups.  NONE of them can touch the excellence of this product.<br /><br />Thick, delicious.  Perfect.  3 ingredients: Water, Maltitol, Natural Maple Flavor.  PERIOD.  No chemicals.  No garbage.<br /><br />Have numerous friends & family members hooked on this stuff.  My husband & son, who do NOT like \"sugar free\" prefer this over major label regular syrup.<br /><br />I use this as my SWEETENER in baking: cheesecakes, white brownies, muffins, pumpkin pies, etc... Unbelievably delicious...<br /><br />Can you tell I like it? :)\n",
      "==================================================\n"
     ]
    }
   ],
   "source": [
    "# printing some random reviews\n",
    "sent_0 = final_data['Text'].values[6]\n",
    "print(sent_0)\n",
    "print(\"=\"*50)\n",
    "\n",
    "sent_1000 = final_data['Text'].values[1000]\n",
    "print(sent_1000)\n",
    "print(\"=\"*50)\n",
    "\n",
    "sent_1500 = final_data['Text'].values[1500]\n",
    "print(sent_1500)\n",
    "print(\"=\"*50)\n",
    "\n",
    "sent_4900 = final_data['Text'].values[4900]\n",
    "print(sent_4900)\n",
    "print(\"=\"*50)"
   ]
  },
  {
   "cell_type": "code",
   "execution_count": 143,
   "metadata": {
    "execution": {
     "iopub.execute_input": "2021-03-22T18:02:07.984780Z",
     "iopub.status.busy": "2021-03-22T18:02:07.984011Z",
     "iopub.status.idle": "2021-03-22T18:02:07.988480Z",
     "shell.execute_reply": "2021-03-22T18:02:07.989216Z"
    },
    "papermill": {
     "duration": 0.084982,
     "end_time": "2021-03-22T18:02:07.989372",
     "exception": false,
     "start_time": "2021-03-22T18:02:07.904390",
     "status": "completed"
    },
    "tags": []
   },
   "outputs": [
    {
     "name": "stdout",
     "output_type": "stream",
     "text": [
      "I set aside at least an hour each day to read to my son (3 y/o). At this point, I consider myself a connoisseur of children's books and this is one of the best. Santa Clause put this under the tree. Since then, we've read it perpetually and he loves it.<br /><br />First, this book taught him the months of the year.<br /><br />Second, it's a pleasure to read. Well suited to 1.5 y/o old to 4+.<br /><br />Very few children's books are worth owning. Most should be borrowed from the library. This book, however, deserves a permanent spot on your shelf. Sendak's best.\n"
     ]
    }
   ],
   "source": [
    "import re    #Tutorial about Python regular expressions: https://pymotw.com/2/re/\n",
    "# remove urls from text python : *https://stackoverflow.com/a/40823105/4084039*\n",
    "sent_0=re.sub(r'https\\S+','',sent_0)\n",
    "sent_1000=re.sub(r'https\\S+','',sent_1000)\n",
    "sent_1500=re.sub(r'https\\S+','',sent_1500)\n",
    "sent_4900=re.sub(r'http\\S+', '', sent_4900)\n",
    "\n",
    "print(sent_0)"
   ]
  },
  {
   "cell_type": "code",
   "execution_count": 144,
   "metadata": {
    "execution": {
     "iopub.execute_input": "2021-03-22T18:02:08.163974Z",
     "iopub.status.busy": "2021-03-22T18:02:08.143039Z",
     "iopub.status.idle": "2021-03-22T18:02:18.409729Z",
     "shell.execute_reply": "2021-03-22T18:02:18.407818Z"
    },
    "papermill": {
     "duration": 10.346011,
     "end_time": "2021-03-22T18:02:18.409916",
     "exception": false,
     "start_time": "2021-03-22T18:02:08.063905",
     "status": "completed"
    },
    "tags": []
   },
   "outputs": [
    {
     "name": "stdout",
     "output_type": "stream",
     "text": [
      "Requirement already satisfied: beautifulsoup4 in /Library/Frameworks/Python.framework/Versions/3.8/lib/python3.8/site-packages (4.12.2)\n",
      "Requirement already satisfied: soupsieve>1.2 in /Library/Frameworks/Python.framework/Versions/3.8/lib/python3.8/site-packages (from beautifulsoup4) (2.5)\n",
      "\u001b[33mWARNING: You are using pip version 21.1.1; however, version 24.2 is available.\n",
      "You should consider upgrading via the '/Library/Frameworks/Python.framework/Versions/3.8/bin/python3.8 -m pip install --upgrade pip' command.\u001b[0m\n",
      "Note: you may need to restart the kernel to use updated packages.\n"
     ]
    }
   ],
   "source": [
    "pip install beautifulsoup4"
   ]
  },
  {
   "cell_type": "code",
   "execution_count": 145,
   "metadata": {
    "execution": {
     "iopub.execute_input": "2021-03-22T18:02:18.586035Z",
     "iopub.status.busy": "2021-03-22T18:02:18.574593Z",
     "iopub.status.idle": "2021-03-22T18:02:25.718635Z",
     "shell.execute_reply": "2021-03-22T18:02:25.719449Z"
    },
    "papermill": {
     "duration": 7.229734,
     "end_time": "2021-03-22T18:02:25.719723",
     "exception": false,
     "start_time": "2021-03-22T18:02:18.489989",
     "status": "completed"
    },
    "tags": []
   },
   "outputs": [
    {
     "name": "stdout",
     "output_type": "stream",
     "text": [
      "Requirement already satisfied: lxml in /Library/Frameworks/Python.framework/Versions/3.8/lib/python3.8/site-packages (5.3.0)\n",
      "\u001b[33mWARNING: You are using pip version 21.1.1; however, version 24.2 is available.\n",
      "You should consider upgrading via the '/Library/Frameworks/Python.framework/Versions/3.8/bin/python3.8 -m pip install --upgrade pip' command.\u001b[0m\n",
      "Note: you may need to restart the kernel to use updated packages.\n"
     ]
    }
   ],
   "source": [
    "pip install lxml"
   ]
  },
  {
   "cell_type": "code",
   "execution_count": 146,
   "metadata": {
    "execution": {
     "iopub.execute_input": "2021-03-22T18:02:25.889886Z",
     "iopub.status.busy": "2021-03-22T18:02:25.888881Z",
     "iopub.status.idle": "2021-03-22T18:02:26.066863Z",
     "shell.execute_reply": "2021-03-22T18:02:26.067684Z"
    },
    "papermill": {
     "duration": 0.266598,
     "end_time": "2021-03-22T18:02:26.068049",
     "exception": false,
     "start_time": "2021-03-22T18:02:25.801451",
     "status": "completed"
    },
    "tags": []
   },
   "outputs": [],
   "source": [
    "import os\n",
    "import re\n",
    "def decontracted(phrase):\n",
    "    phrase=re.sub(r\"won't\",'will not',phrase)\n",
    "    phrase=re.sub(r\"can\\'t\",'can not',phrase)\n",
    "    phrase=re.sub(r\"n\\'t\",'not',phrase)\n",
    "    phrase=re.sub(r\"\\'re\",'are',phrase)\n",
    "    phrase = re.sub(r\"\\'s\", \" is\", phrase)\n",
    "    phrase = re.sub(r\"\\'d\", \" would\", phrase)\n",
    "    phrase = re.sub(r\"\\'ll\", \" will\", phrase)\n",
    "    phrase = re.sub(r\"\\'t\", \" not\", phrase)\n",
    "    phrase = re.sub(r\"\\'ve\", \" have\", phrase)\n",
    "    phrase = re.sub(r\"\\'m\", \" am\", phrase)\n",
    "    return phrase"
   ]
  },
  {
   "cell_type": "code",
   "execution_count": 147,
   "metadata": {
    "execution": {
     "iopub.execute_input": "2021-03-22T18:02:26.238999Z",
     "iopub.status.busy": "2021-03-22T18:02:26.238092Z",
     "iopub.status.idle": "2021-03-22T18:02:26.241803Z",
     "shell.execute_reply": "2021-03-22T18:02:26.242406Z"
    },
    "papermill": {
     "duration": 0.091634,
     "end_time": "2021-03-22T18:02:26.242553",
     "exception": false,
     "start_time": "2021-03-22T18:02:26.150919",
     "status": "completed"
    },
    "tags": []
   },
   "outputs": [
    {
     "name": "stdout",
     "output_type": "stream",
     "text": [
      "I set aside at least an hour each day to read to my son (3 y/o). At this point, I consider myself a connoisseur of children's books and this is one of the best. Santa Clause put this under the tree. Since then, we've read it perpetually and he loves it.<br /><br />First, this book taught him the months of the year.<br /><br />Second, it's a pleasure to read. Well suited to 1.5 y/o old to 4+.<br /><br />Very few children's books are worth owning. Most should be borrowed from the library. This book, however, deserves a permanent spot on your shelf. Sendak's best.\n",
      "==================================================\n",
      "Great ingredients although chicken should have been 1st rather than chicken broth the only thing I do not think belongs in it is Canola oil Canola or rapeseed is not someting a dog would ever find in nature and if it did find rapeseed in nature and eat it it would poison them Today s Food industries have convinced the masses that Canola oil is a safe and even better oil than olive or virgin coconut facts though say otherwise Until the late 70 s it was poisonous until they figured out a way to fix that I still like it but it could be better \n"
     ]
    }
   ],
   "source": [
    "#rremove words with no. python  # https://stackoverflow.com/a/18082370/4084039\n",
    "sent_0=re.sub(\"\\S\\d\\S\",\"\",sent_0).strip()\n",
    "print(sent_0)\n",
    "print(\"=\"*50)\n",
    "\n",
    "#remove specail charachter # https://stackoverflow.com/a/5843547/4084039\n",
    "sent_1500=re.sub('[^A-Za-z0-9]+',' ',sent_1500)\n",
    "print(sent_1500)"
   ]
  },
  {
   "cell_type": "code",
   "execution_count": 148,
   "metadata": {
    "execution": {
     "iopub.execute_input": "2021-03-22T18:02:26.411304Z",
     "iopub.status.busy": "2021-03-22T18:02:26.410105Z",
     "iopub.status.idle": "2021-03-22T18:02:26.416460Z",
     "shell.execute_reply": "2021-03-22T18:02:26.415582Z"
    },
    "papermill": {
     "duration": 0.093295,
     "end_time": "2021-03-22T18:02:26.416657",
     "exception": false,
     "start_time": "2021-03-22T18:02:26.323362",
     "status": "completed"
    },
    "tags": []
   },
   "outputs": [
    {
     "name": "stderr",
     "output_type": "stream",
     "text": [
      "[nltk_data] Error loading stopwords: <urlopen error [SSL:\n",
      "[nltk_data]     CERTIFICATE_VERIFY_FAILED] certificate verify failed:\n",
      "[nltk_data]     unable to get local issuer certificate (_ssl.c:1131)>\n"
     ]
    },
    {
     "name": "stderr",
     "output_type": "stream",
     "text": [
      "Pandas Apply: 100%|████████████████████████████████████████████████████████████████████████████████████████████████████████████████████████████████████████████████████████████████████████████████████████████████████████████████████████████████████████████████████████████████████████████████████████████████████████████| 364171/364171 [04:03<00:00, 1495.32it/s]\n"
     ]
    }
   ],
   "source": [
    "import re\n",
    "from bs4 import BeautifulSoup\n",
    "import swifter\n",
    "from nltk.corpus import stopwords\n",
    "import nltk\n",
    "\n",
    "# Download the stopwords if you haven't already\n",
    "nltk.download('stopwords')\n",
    "\n",
    "# Define the stopwords list\n",
    "stop = set(stopwords.words('english'))\n",
    "\n",
    "# Assuming the decontracted function is already defined\n",
    "\n",
    "def preprocess_sentence(sentence):\n",
    "    \"\"\"\n",
    "    Preprocesses a given sentence by performing the following steps:\n",
    "    1. Remove URLs.\n",
    "    2. Remove HTML tags.\n",
    "    3. Expand contractions.\n",
    "    4. Remove words containing digits.\n",
    "    5. Remove special characters.\n",
    "    6. Convert to lowercase and remove stopwords.\n",
    "    \"\"\"\n",
    "\n",
    "    # Remove URLs\n",
    "    sentence = re.sub(r\"http\\S+\", \"\", sentence)\n",
    "    \n",
    "    # Remove HTML tags\n",
    "    sentence = BeautifulSoup(sentence, 'lxml').get_text()\n",
    "    \n",
    "    # Expand contractions\n",
    "    sentence = decontracted(sentence)\n",
    "    \n",
    "    # Remove words containing digits\n",
    "    sentence = re.sub(r\"\\S*\\d\\S*\", \"\", sentence).strip()\n",
    "    \n",
    "    # Remove special characters, keeping only letters\n",
    "    sentence = re.sub(r'[^A-Za-z]+', ' ', sentence)\n",
    "    \n",
    "    # Convert to lowercase, remove stopwords, and return the cleaned sentence\n",
    "    sentence = ' '.join(word.lower() for word in sentence.split() if word.lower() not in stop)\n",
    "    \n",
    "    return sentence.strip()\n",
    "\n",
    "# Apply the preprocessing function to the 'Text' column using swifter for faster processing\n",
    "final_data['Cleaned_Text'] = final_data['Text'].swifter.apply(preprocess_sentence)\n"
   ]
  },
  {
   "cell_type": "code",
   "execution_count": 149,
   "metadata": {
    "execution": {
     "iopub.execute_input": "2021-03-22T18:06:40.098326Z",
     "iopub.status.busy": "2021-03-22T18:06:40.097140Z",
     "iopub.status.idle": "2021-03-22T18:09:10.795063Z",
     "shell.execute_reply": "2021-03-22T18:09:10.794319Z"
    },
    "papermill": {
     "duration": 151.552243,
     "end_time": "2021-03-22T18:09:10.795264",
     "exception": false,
     "start_time": "2021-03-22T18:06:39.243021",
     "status": "completed"
    },
    "tags": []
   },
   "outputs": [
    {
     "name": "stderr",
     "output_type": "stream",
     "text": [
      "Pandas Apply: 100%|████████████████████████████████████████████████████████████████████████████████████████████████████████████████████████████████████████████████████████████████████████████████████████████████████████████████████████████████████████████████████████████████████████████████████████████████████████████| 364171/364171 [02:39<00:00, 2282.04it/s]\n"
     ]
    }
   ],
   "source": [
    "\n",
    "# Apply the preprocessing function to the 'Summary' column using swifter for faster processing\n",
    "final_data['Cleaned_Summary'] = final_data['Summary'].swifter.apply(preprocess_sentence)\n"
   ]
  },
  {
   "cell_type": "code",
   "execution_count": 150,
   "metadata": {
    "execution": {
     "iopub.execute_input": "2021-03-22T18:09:13.552996Z",
     "iopub.status.busy": "2021-03-22T18:09:13.551676Z",
     "iopub.status.idle": "2021-03-22T18:09:23.591152Z",
     "shell.execute_reply": "2021-03-22T18:09:23.589901Z"
    },
    "papermill": {
     "duration": 11.419497,
     "end_time": "2021-03-22T18:09:23.591372",
     "exception": false,
     "start_time": "2021-03-22T18:09:12.171875",
     "status": "completed"
    },
    "tags": []
   },
   "outputs": [
    {
     "name": "stdout",
     "output_type": "stream",
     "text": [
      "Requirement already satisfied: bs4 in /Library/Frameworks/Python.framework/Versions/3.8/lib/python3.8/site-packages (0.0.2)\n",
      "Requirement already satisfied: beautifulsoup4 in /Library/Frameworks/Python.framework/Versions/3.8/lib/python3.8/site-packages (from bs4) (4.12.2)\n",
      "Requirement already satisfied: soupsieve>1.2 in /Library/Frameworks/Python.framework/Versions/3.8/lib/python3.8/site-packages (from beautifulsoup4->bs4) (2.5)\n",
      "\u001b[33mWARNING: You are using pip version 21.1.1; however, version 24.2 is available.\n",
      "You should consider upgrading via the '/Library/Frameworks/Python.framework/Versions/3.8/bin/python3.8 -m pip install --upgrade pip' command.\u001b[0m\n",
      "Note: you may need to restart the kernel to use updated packages.\n"
     ]
    }
   ],
   "source": [
    "pip install bs4"
   ]
  },
  {
   "cell_type": "code",
   "execution_count": 151,
   "metadata": {
    "execution": {
     "iopub.execute_input": "2021-03-22T18:09:26.783819Z",
     "iopub.status.busy": "2021-03-22T18:09:26.783133Z",
     "iopub.status.idle": "2021-03-22T18:09:26.807102Z",
     "shell.execute_reply": "2021-03-22T18:09:26.808586Z"
    },
    "papermill": {
     "duration": 1.840031,
     "end_time": "2021-03-22T18:09:26.808868",
     "exception": false,
     "start_time": "2021-03-22T18:09:24.968837",
     "status": "completed"
    },
    "tags": []
   },
   "outputs": [
    {
     "name": "stdout",
     "output_type": "stream",
     "text": [
      "==================================================\n",
      "0 )>> this witty little book makes my son laugh at loud. i recite it in the car as we're driving along and he always can sing the refrain. he's learned about whales, India, drooping roses:  i love all the new words this book  introduces and the silliness of it all.  this is a classic book i am  willing to bet my son will STILL be able to recite from memory when he is  in college\n",
      "==================================================\n",
      "1 )>> I grew up reading these Sendak books, and watching the Really Rosie movie that incorporates them, and love them. My son loves them too. I do however, miss the hard cover version. The paperbacks seem kind of flimsy and it takes two hands to keep the pages open.\n",
      "==================================================\n",
      "2 )>> This is a fun way for children to learn their months of the year!  We will learn all of the poems throughout the school year.  they like the handmotions which I invent for each poem.\n",
      "==================================================\n",
      "3 )>> This is a great little book to read aloud- it has a nice rhythm as well as good repetition that little ones like, in the lines about \"chicken soup with rice\".  The child gets to go through the months of the year and go to wonderful places like Bombay and down the Nile, all the while, eating, well, you know what they get to eat.  Some kids will have Maurice Sendak's version of ice skating or how to treat roses in their heads for a long time and they won't even know where it came from.  Surprise!  It came from this little witty book.  :-)\n",
      "==================================================\n",
      "4 )>> This is a book of poetry about the months of the year.  It goes through each month and has a cute little poem to go along with it.  I love this book because it is a really fun way to learn the months and the poems are very creative. The author's purpose for writing this book was to give children a fun way to learn the months.  The children can also learn things about poetry and rhythm through reading this book.\n",
      "==================================================\n",
      "5 )>> A charming, rhyming book that describes the circumstances under which you eat (or don't) chicken soup with rice, month-by-month. This sounds like the kind of thing kids would make up while they're out of recess and sing over and over until they drive the teachers crazy. It's cute and catchy and sounds really childlike but is skillfully written.\n",
      "==================================================\n"
     ]
    }
   ],
   "source": [
    "#SENTENCES Containing HTML tags\n",
    "import re\n",
    "i=0;\n",
    "for sentence in final_data['Text'].values:\n",
    "    if (len(re.findall('<.*?>',sentence))):\n",
    "        break;\n",
    "    print(\"=\"*50)\n",
    "    print(i,\")>>\",sentence)\n",
    "    i=i+1\n",
    "print(\"=\"*50)"
   ]
  },
  {
   "cell_type": "code",
   "execution_count": 152,
   "metadata": {
    "execution": {
     "iopub.execute_input": "2021-03-22T18:09:39.268976Z",
     "iopub.status.busy": "2021-03-22T18:09:39.267664Z",
     "iopub.status.idle": "2021-03-22T18:09:39.303188Z",
     "shell.execute_reply": "2021-03-22T18:09:39.302647Z"
    },
    "papermill": {
     "duration": 1.592159,
     "end_time": "2021-03-22T18:09:39.303369",
     "exception": false,
     "start_time": "2021-03-22T18:09:37.711210",
     "status": "completed"
    },
    "tags": []
   },
   "outputs": [
    {
     "data": {
      "text/html": [
       "<div>\n",
       "<style scoped>\n",
       "    .dataframe tbody tr th:only-of-type {\n",
       "        vertical-align: middle;\n",
       "    }\n",
       "\n",
       "    .dataframe tbody tr th {\n",
       "        vertical-align: top;\n",
       "    }\n",
       "\n",
       "    .dataframe thead th {\n",
       "        text-align: right;\n",
       "    }\n",
       "</style>\n",
       "<table border=\"1\" class=\"dataframe\">\n",
       "  <thead>\n",
       "    <tr style=\"text-align: right;\">\n",
       "      <th></th>\n",
       "      <th>Id</th>\n",
       "      <th>ProductId</th>\n",
       "      <th>UserId</th>\n",
       "      <th>ProfileName</th>\n",
       "      <th>HelpfulnessNumerator</th>\n",
       "      <th>HelpfulnessDenominator</th>\n",
       "      <th>Score</th>\n",
       "      <th>Time</th>\n",
       "      <th>Summary</th>\n",
       "      <th>Text</th>\n",
       "      <th>Cleaned_Text</th>\n",
       "      <th>Cleaned_Summary</th>\n",
       "    </tr>\n",
       "  </thead>\n",
       "  <tbody>\n",
       "    <tr>\n",
       "      <th>138706</th>\n",
       "      <td>150524</td>\n",
       "      <td>0006641040</td>\n",
       "      <td>ACITT7DI6IDDL</td>\n",
       "      <td>shari zychinski</td>\n",
       "      <td>0</td>\n",
       "      <td>0</td>\n",
       "      <td>1</td>\n",
       "      <td>1999-10-08</td>\n",
       "      <td>EVERY book is educational</td>\n",
       "      <td>this witty little book makes my son laugh at l...</td>\n",
       "      <td>witty little book makes son laugh loud recite ...</td>\n",
       "      <td>every book educational</td>\n",
       "    </tr>\n",
       "    <tr>\n",
       "      <th>138688</th>\n",
       "      <td>150506</td>\n",
       "      <td>0006641040</td>\n",
       "      <td>A2IW4PEEKO2R0U</td>\n",
       "      <td>Tracy</td>\n",
       "      <td>1</td>\n",
       "      <td>1</td>\n",
       "      <td>1</td>\n",
       "      <td>2007-11-11</td>\n",
       "      <td>Love the book, miss the hard cover version</td>\n",
       "      <td>I grew up reading these Sendak books, and watc...</td>\n",
       "      <td>grew reading sendak books watching really rosi...</td>\n",
       "      <td>love book miss hard cover version</td>\n",
       "    </tr>\n",
       "    <tr>\n",
       "      <th>138689</th>\n",
       "      <td>150507</td>\n",
       "      <td>0006641040</td>\n",
       "      <td>A1S4A3IQ2MU7V4</td>\n",
       "      <td>sally sue \"sally sue\"</td>\n",
       "      <td>1</td>\n",
       "      <td>1</td>\n",
       "      <td>1</td>\n",
       "      <td>2007-10-04</td>\n",
       "      <td>chicken soup with rice months</td>\n",
       "      <td>This is a fun way for children to learn their ...</td>\n",
       "      <td>fun way children learn months year learn poems...</td>\n",
       "      <td>chicken soup rice months</td>\n",
       "    </tr>\n",
       "    <tr>\n",
       "      <th>138690</th>\n",
       "      <td>150508</td>\n",
       "      <td>0006641040</td>\n",
       "      <td>AZGXZ2UUK6X</td>\n",
       "      <td>Catherine Hallberg \"(Kate)\"</td>\n",
       "      <td>1</td>\n",
       "      <td>1</td>\n",
       "      <td>1</td>\n",
       "      <td>2004-02-06</td>\n",
       "      <td>a good swingy rhythm for reading aloud</td>\n",
       "      <td>This is a great little book to read aloud- it ...</td>\n",
       "      <td>great little book read aloud nice rhythm well ...</td>\n",
       "      <td>good swingy rhythm reading aloud</td>\n",
       "    </tr>\n",
       "    <tr>\n",
       "      <th>138691</th>\n",
       "      <td>150509</td>\n",
       "      <td>0006641040</td>\n",
       "      <td>A3CMRKGE0P909G</td>\n",
       "      <td>Teresa</td>\n",
       "      <td>3</td>\n",
       "      <td>4</td>\n",
       "      <td>1</td>\n",
       "      <td>2002-04-10</td>\n",
       "      <td>A great way to learn the months</td>\n",
       "      <td>This is a book of poetry about the months of t...</td>\n",
       "      <td>book poetry months year goes month cute little...</td>\n",
       "      <td>great way learn months</td>\n",
       "    </tr>\n",
       "  </tbody>\n",
       "</table>\n",
       "</div>"
      ],
      "text/plain": [
       "            Id   ProductId          UserId                  ProfileName  \\\n",
       "138706  150524  0006641040   ACITT7DI6IDDL              shari zychinski   \n",
       "138688  150506  0006641040  A2IW4PEEKO2R0U                        Tracy   \n",
       "138689  150507  0006641040  A1S4A3IQ2MU7V4        sally sue \"sally sue\"   \n",
       "138690  150508  0006641040     AZGXZ2UUK6X  Catherine Hallberg \"(Kate)\"   \n",
       "138691  150509  0006641040  A3CMRKGE0P909G                       Teresa   \n",
       "\n",
       "        HelpfulnessNumerator  HelpfulnessDenominator  Score       Time  \\\n",
       "138706                     0                       0      1 1999-10-08   \n",
       "138688                     1                       1      1 2007-11-11   \n",
       "138689                     1                       1      1 2007-10-04   \n",
       "138690                     1                       1      1 2004-02-06   \n",
       "138691                     3                       4      1 2002-04-10   \n",
       "\n",
       "                                           Summary  \\\n",
       "138706                   EVERY book is educational   \n",
       "138688  Love the book, miss the hard cover version   \n",
       "138689               chicken soup with rice months   \n",
       "138690      a good swingy rhythm for reading aloud   \n",
       "138691             A great way to learn the months   \n",
       "\n",
       "                                                     Text  \\\n",
       "138706  this witty little book makes my son laugh at l...   \n",
       "138688  I grew up reading these Sendak books, and watc...   \n",
       "138689  This is a fun way for children to learn their ...   \n",
       "138690  This is a great little book to read aloud- it ...   \n",
       "138691  This is a book of poetry about the months of t...   \n",
       "\n",
       "                                             Cleaned_Text  \\\n",
       "138706  witty little book makes son laugh loud recite ...   \n",
       "138688  grew reading sendak books watching really rosi...   \n",
       "138689  fun way children learn months year learn poems...   \n",
       "138690  great little book read aloud nice rhythm well ...   \n",
       "138691  book poetry months year goes month cute little...   \n",
       "\n",
       "                          Cleaned_Summary  \n",
       "138706             every book educational  \n",
       "138688  love book miss hard cover version  \n",
       "138689           chicken soup rice months  \n",
       "138690   good swingy rhythm reading aloud  \n",
       "138691             great way learn months  "
      ]
     },
     "execution_count": 152,
     "metadata": {},
     "output_type": "execute_result"
    }
   ],
   "source": [
    "# converting time in unit=sec\n",
    "final_data['Time']=pd.to_datetime(final_data['Time'],unit='s')\n",
    "final_data.head()"
   ]
  },
  {
   "cell_type": "markdown",
   "metadata": {
    "papermill": {
     "duration": 1.372209,
     "end_time": "2021-03-22T18:09:42.041062",
     "exception": false,
     "start_time": "2021-03-22T18:09:40.668853",
     "status": "completed"
    },
    "tags": []
   },
   "source": [
    "# Sorting dataset based on 'Time' feature"
   ]
  },
  {
   "cell_type": "code",
   "execution_count": 153,
   "metadata": {
    "execution": {
     "iopub.execute_input": "2021-03-22T18:09:44.728867Z",
     "iopub.status.busy": "2021-03-22T18:09:44.727618Z",
     "iopub.status.idle": "2021-03-22T18:09:45.439207Z",
     "shell.execute_reply": "2021-03-22T18:09:45.438534Z"
    },
    "papermill": {
     "duration": 2.061153,
     "end_time": "2021-03-22T18:09:45.439356",
     "exception": false,
     "start_time": "2021-03-22T18:09:43.378203",
     "status": "completed"
    },
    "tags": []
   },
   "outputs": [
    {
     "data": {
      "text/html": [
       "<div>\n",
       "<style scoped>\n",
       "    .dataframe tbody tr th:only-of-type {\n",
       "        vertical-align: middle;\n",
       "    }\n",
       "\n",
       "    .dataframe tbody tr th {\n",
       "        vertical-align: top;\n",
       "    }\n",
       "\n",
       "    .dataframe thead th {\n",
       "        text-align: right;\n",
       "    }\n",
       "</style>\n",
       "<table border=\"1\" class=\"dataframe\">\n",
       "  <thead>\n",
       "    <tr style=\"text-align: right;\">\n",
       "      <th></th>\n",
       "      <th>Id</th>\n",
       "      <th>ProductId</th>\n",
       "      <th>UserId</th>\n",
       "      <th>ProfileName</th>\n",
       "      <th>HelpfulnessNumerator</th>\n",
       "      <th>HelpfulnessDenominator</th>\n",
       "      <th>Score</th>\n",
       "      <th>Time</th>\n",
       "      <th>Summary</th>\n",
       "      <th>Text</th>\n",
       "      <th>Cleaned_Text</th>\n",
       "      <th>Cleaned_Summary</th>\n",
       "    </tr>\n",
       "  </thead>\n",
       "  <tbody>\n",
       "    <tr>\n",
       "      <th>138706</th>\n",
       "      <td>150524</td>\n",
       "      <td>0006641040</td>\n",
       "      <td>ACITT7DI6IDDL</td>\n",
       "      <td>shari zychinski</td>\n",
       "      <td>0</td>\n",
       "      <td>0</td>\n",
       "      <td>1</td>\n",
       "      <td>1999-10-08</td>\n",
       "      <td>EVERY book is educational</td>\n",
       "      <td>this witty little book makes my son laugh at l...</td>\n",
       "      <td>witty little book makes son laugh loud recite ...</td>\n",
       "      <td>every book educational</td>\n",
       "    </tr>\n",
       "    <tr>\n",
       "      <th>138683</th>\n",
       "      <td>150501</td>\n",
       "      <td>0006641040</td>\n",
       "      <td>AJ46FKXOVC7NR</td>\n",
       "      <td>Nicholas A Mesiano</td>\n",
       "      <td>2</td>\n",
       "      <td>2</td>\n",
       "      <td>1</td>\n",
       "      <td>1999-10-25</td>\n",
       "      <td>This whole series is great way to spend time w...</td>\n",
       "      <td>I can remember seeing the show when it aired o...</td>\n",
       "      <td>remember seeing show aired television years ag...</td>\n",
       "      <td>whole series great way spend time child</td>\n",
       "    </tr>\n",
       "    <tr>\n",
       "      <th>417839</th>\n",
       "      <td>451856</td>\n",
       "      <td>B00004CXX9</td>\n",
       "      <td>AIUWLEQ1ADEG5</td>\n",
       "      <td>Elizabeth Medina</td>\n",
       "      <td>0</td>\n",
       "      <td>0</td>\n",
       "      <td>1</td>\n",
       "      <td>1999-12-02</td>\n",
       "      <td>Entertainingl Funny!</td>\n",
       "      <td>Beetlejuice is a well written movie ..... ever...</td>\n",
       "      <td>beetlejuice well written movie everything exce...</td>\n",
       "      <td>entertainingl funny</td>\n",
       "    </tr>\n",
       "    <tr>\n",
       "      <th>346055</th>\n",
       "      <td>374359</td>\n",
       "      <td>B00004CI84</td>\n",
       "      <td>A344SMIA5JECGM</td>\n",
       "      <td>Vincent P. Ross</td>\n",
       "      <td>1</td>\n",
       "      <td>2</td>\n",
       "      <td>1</td>\n",
       "      <td>1999-12-06</td>\n",
       "      <td>A modern day fairy tale</td>\n",
       "      <td>A twist of rumplestiskin captured on film, sta...</td>\n",
       "      <td>twist rumplestiskin captured film starring mic...</td>\n",
       "      <td>modern day fairy tale</td>\n",
       "    </tr>\n",
       "    <tr>\n",
       "      <th>417838</th>\n",
       "      <td>451855</td>\n",
       "      <td>B00004CXX9</td>\n",
       "      <td>AJH6LUC1UT1ON</td>\n",
       "      <td>The Phantom of the Opera</td>\n",
       "      <td>0</td>\n",
       "      <td>0</td>\n",
       "      <td>1</td>\n",
       "      <td>2000-01-03</td>\n",
       "      <td>FANTASTIC!</td>\n",
       "      <td>Beetlejuice is an excellent and funny movie. K...</td>\n",
       "      <td>beetlejuice excellent funny movie keaton hilar...</td>\n",
       "      <td>fantastic</td>\n",
       "    </tr>\n",
       "  </tbody>\n",
       "</table>\n",
       "</div>"
      ],
      "text/plain": [
       "            Id   ProductId          UserId               ProfileName  \\\n",
       "138706  150524  0006641040   ACITT7DI6IDDL           shari zychinski   \n",
       "138683  150501  0006641040   AJ46FKXOVC7NR        Nicholas A Mesiano   \n",
       "417839  451856  B00004CXX9   AIUWLEQ1ADEG5          Elizabeth Medina   \n",
       "346055  374359  B00004CI84  A344SMIA5JECGM           Vincent P. Ross   \n",
       "417838  451855  B00004CXX9   AJH6LUC1UT1ON  The Phantom of the Opera   \n",
       "\n",
       "        HelpfulnessNumerator  HelpfulnessDenominator  Score       Time  \\\n",
       "138706                     0                       0      1 1999-10-08   \n",
       "138683                     2                       2      1 1999-10-25   \n",
       "417839                     0                       0      1 1999-12-02   \n",
       "346055                     1                       2      1 1999-12-06   \n",
       "417838                     0                       0      1 2000-01-03   \n",
       "\n",
       "                                                  Summary  \\\n",
       "138706                          EVERY book is educational   \n",
       "138683  This whole series is great way to spend time w...   \n",
       "417839                               Entertainingl Funny!   \n",
       "346055                            A modern day fairy tale   \n",
       "417838                                         FANTASTIC!   \n",
       "\n",
       "                                                     Text  \\\n",
       "138706  this witty little book makes my son laugh at l...   \n",
       "138683  I can remember seeing the show when it aired o...   \n",
       "417839  Beetlejuice is a well written movie ..... ever...   \n",
       "346055  A twist of rumplestiskin captured on film, sta...   \n",
       "417838  Beetlejuice is an excellent and funny movie. K...   \n",
       "\n",
       "                                             Cleaned_Text  \\\n",
       "138706  witty little book makes son laugh loud recite ...   \n",
       "138683  remember seeing show aired television years ag...   \n",
       "417839  beetlejuice well written movie everything exce...   \n",
       "346055  twist rumplestiskin captured film starring mic...   \n",
       "417838  beetlejuice excellent funny movie keaton hilar...   \n",
       "\n",
       "                                Cleaned_Summary  \n",
       "138706                   every book educational  \n",
       "138683  whole series great way spend time child  \n",
       "417839                      entertainingl funny  \n",
       "346055                    modern day fairy tale  \n",
       "417838                                fantastic  "
      ]
     },
     "execution_count": 153,
     "metadata": {},
     "output_type": "execute_result"
    }
   ],
   "source": [
    "final_data=final_data.sort_values('Time',axis=0, ascending=True, inplace=False, kind='quicksort', na_position='last')\n",
    "final_data.head()"
   ]
  },
  {
   "cell_type": "code",
   "execution_count": 154,
   "metadata": {
    "execution": {
     "iopub.execute_input": "2021-03-22T18:09:48.434058Z",
     "iopub.status.busy": "2021-03-22T18:09:48.432847Z",
     "iopub.status.idle": "2021-03-22T18:09:57.222255Z",
     "shell.execute_reply": "2021-03-22T18:09:57.220389Z"
    },
    "papermill": {
     "duration": 10.423812,
     "end_time": "2021-03-22T18:09:57.222430",
     "exception": false,
     "start_time": "2021-03-22T18:09:46.798618",
     "status": "completed"
    },
    "tags": []
   },
   "outputs": [],
   "source": [
    "#Store the final table into an SQLITE table for future\n",
    "connection=sqlite3.connect('final12.sqlite')\n",
    "c=connection.cursor\n",
    "connection.text_factory=str\n",
    "final_data.to_sql('Reviews',connection,schema=None,if_exists='replace',index=True,index_label=True,chunksize=None,dtype=None)\n",
    "connection.close()"
   ]
  },
  {
   "cell_type": "markdown",
   "metadata": {
    "papermill": {
     "duration": 1.998502,
     "end_time": "2021-03-22T18:10:00.593594",
     "exception": false,
     "start_time": "2021-03-22T18:09:58.595092",
     "status": "completed"
    },
    "tags": []
   },
   "source": [
    "<!-- Header -->\n",
    "<h1 style=\"font-family: 'Arial', sans-serif; font-size: 32px; font-weight: bold; margin-top: 30px; margin-bottom: 20px; color: #E0FFFF;\">Logistic Regression Implementation for Text Data</h1>\n",
    "\n",
    "<!-- Subheader -->\n",
    "<h2 style=\"font-family: 'Arial', sans-serif; font-size: 28px; font-weight: bold; margin-top: 25px; margin-bottom: 15px; color: #E0FFFF;\">Step 1: Feature Transformation with Logistic Regression</h2>\n",
    "\n",
    "<!-- Content -->\n",
    "<p style=\"font-family: 'Georgia', serif; font-size: 18px; margin-bottom: 20px; color: white;\">\n",
    "    Apply Logistic Regression on various transformed feature sets:\n",
    "</p>\n",
    "\n",
    "<ul style=\"font-family: 'Georgia', serif; font-size: 18px; margin-bottom: 10px; margin-left: 20px; color: white;\">\n",
    "    <li>Review text vectorized using Bag of Words (BOW).</li>\n",
    "    <li>Review text vectorized using Term Frequency-Inverse Document Frequency (TFIDF).</li>\n",
    "    <li>Review text vectorized using Average Word2Vec (AVG W2v).</li>\n",
    "    <li>Review text vectorized using TFIDF-weighted Word2Vec (TFIDF W2v).</li>\n",
    "</ul>\n",
    "\n",
    "<!-- Subheader -->\n",
    "<h2 style=\"font-family: 'Arial', sans-serif; font-size: 28px; font-weight: bold; margin-top: 25px; margin-bottom: 15px; color: #E0FFFF;\">Step 2: Hyperparameter Optimization</h2>\n",
    "\n",
    "<!-- Content -->\n",
    "<p style=\"font-family: 'Georgia', serif; font-size: 18px; margin-bottom: 20px; color: white;\">\n",
    "    Optimize hyperparameters to achieve the highest AUC score:\n",
    "</p>\n",
    "\n",
    "<ul style=\"font-family: 'Georgia', serif; font-size: 18px; margin-bottom: 10px; margin-left: 20px; color: white;\">\n",
    "    <li>Use techniques like k-fold cross-validation or simple cross-validation to identify the best hyperparameters.</li>\n",
    "    <li>Implement GridSearchCV, RandomSearchCV, or custom loops for hyperparameter tuning.</li>\n",
    "</ul>\n",
    "\n",
    "<!-- Subheader -->\n",
    "<h2 style=\"font-family: 'Arial', sans-serif; font-size: 28px; font-weight: bold; margin-top: 25px; margin-bottom: 15px; color: #E0FFFF;\">Step 3: Perturbation Analysis</h2>\n",
    "\n",
    "<!-- Content -->\n",
    "<p style=\"font-family: 'Georgia', serif; font-size: 18px; margin-bottom: 20px; color: white;\">\n",
    "    Conduct a perturbation test to assess model stability:\n",
    "</p>\n",
    "\n",
    "<ul style=\"font-family: 'Georgia', serif; font-size: 18px; margin-bottom: 10px; margin-left: 20px; color: white;\">\n",
    "    <li>Obtain weight vector <em>W</em> after fitting the model on dataset <em>X</em>.</li>\n",
    "    <li>Introduce noise to <em>X</em> to generate <em>X' = X + e</em> and refit the model to obtain <em>W'</em>.</li>\n",
    "    <li>Adjust <em>W</em> and <em>W'</em> by adding a small epsilon value to avoid division errors.</li>\n",
    "    <li>Calculate the percentage change between <em>W</em> and <em>W'</em>, and analyze percentile changes.</li>\n",
    "    <li>Identify and report feature names with percentage changes exceeding a specified threshold.</li>\n",
    "</ul>\n",
    "\n",
    "<!-- Subheader -->\n",
    "<h2 style=\"font-family: 'Arial', sans-serif; font-size: 28px; font-weight: bold; margin-top: 25px; margin-bottom: 15px; color: #E0FFFF;\">Step 4: Assessing Sparsity</h2>\n",
    "\n",
    "<!-- Content -->\n",
    "<p style=\"font-family: 'Georgia', serif; font-size: 18px; margin-bottom: 20px; color: white;\">\n",
    "    Calculate sparsity of the weight vector after applying L1 regularization.\n",
    "</p>\n",
    "\n",
    "<!-- Subheader -->\n",
    "<h2 style=\"font-family: 'Arial', sans-serif; font-size: 28px; font-weight: bold; margin-top: 25px; margin-bottom: 15px; color: #E0FFFF;\">Step 5: Feature Importance Ranking</h2>\n",
    "\n",
    "<!-- Content -->\n",
    "<p style=\"font-family: 'Georgia', serif; font-size: 18px; margin-bottom: 20px; color: white;\">\n",
    "    Identify and report the top 10 most important features for both positive and negative classes.\n",
    "</p>\n",
    "\n",
    "<!-- Subheader -->\n",
    "<h2 style=\"font-family: 'Arial', sans-serif; font-size: 28px; font-weight: bold; margin-top: 25px; margin-bottom: 15px; color: #E0FFFF;\">Step 6: Feature Engineering</h2>\n",
    "\n",
    "<!-- Content -->\n",
    "<p style=\"font-family: 'Georgia', serif; font-size: 18px; margin-bottom: 20px; color: white;\">\n",
    "    Enhance model performance by incorporating additional features:\n",
    "</p>\n",
    "\n",
    "<ul style=\"font-family: 'Georgia', serif; font-size: 18px; margin-bottom: 10px; margin-left: 20px; color: white;\">\n",
    "    <li>Include review length as an additional feature.</li>\n",
    "    <li>Extract features from the review summary.</li>\n",
    "</ul>\n",
    "\n",
    "<!-- Subheader -->\n",
    "<h2 style=\"font-family: 'Arial', sans-serif; font-size: 28px; font-weight: bold; margin-top: 25px; margin-bottom: 15px; color: #E0FFFF;\">Step 7: Performance Visualization</h2>\n",
    "\n",
    "<!-- Content -->\n",
    "<p style=\"font-family: 'Georgia', serif; font-size: 18px; margin-bottom: 20px; color: white;\">\n",
    "    Visualize model performance:\n",
    "</p>\n",
    "\n",
    "<ul style=\"font-family: 'Georgia', serif; font-size: 18px; margin-bottom: 10px; margin-left: 20px; color: white;\">\n",
    "    <li>Plot model performance on training and cross-validation data for each hyperparameter.</li>\n",
    "    <li>After selecting the best hyperparameter, train the model, evaluate AUC on test data, and plot ROC curves for both train and test sets.</li>\n",
    "    <li>Visualize confusion matrices using seaborn heatmaps.</li>\n",
    "</ul>\n",
    "\n",
    "<!-- Subheader -->\n",
    "<h2 style=\"font-family: 'Arial', sans-serif; font-size: 28px; font-weight: bold; margin-top: 25px; margin-bottom: 15px; color: #E0FFFF;\">Step 8: Results Summary</h2>\n",
    "\n",
    "<!-- Content -->\n",
    "<p style=\"font-family: 'Georgia', serif; font-size: 18px; margin-bottom: 20px; color: white;\">\n",
    "    Summarize and present results in a tabular format using libraries like PrettyTable.\n",
    "</p>\n",
    "\n",
    "<!-- Subheader -->\n",
    "<h2 style=\"font-family: 'Arial', sans-serif; font-size: 28px; font-weight: bold; margin-top: 25px; margin-bottom: 15px; color: #E0FFFF;\">Additional Considerations</h2>\n",
    "\n",
    "<!-- Content -->\n",
    "<p style=\"font-family: 'Georgia', serif; font-size: 18px; margin-bottom: 20px; color: white;\">\n",
    "    Address potential data leakage:\n",
    "</p>\n",
    "\n",
    "<ul style=\"font-family: 'Georgia', serif; font-size: 18px; margin-bottom: 10px; margin-left: 20px; color: white;\">\n",
    "    <li>Split the dataset into train/validation/test sets before vectorization.</li>\n",
    "    <li>Apply <code>fit_transform()</code> on training data and <code>transform()</code> on validation/test data during vectorization.</li>\n",
    "</ul>\n"
   ]
  },
  {
   "cell_type": "code",
   "execution_count": 155,
   "metadata": {
    "execution": {
     "iopub.execute_input": "2021-03-22T18:10:03.345182Z",
     "iopub.status.busy": "2021-03-22T18:10:03.344025Z",
     "iopub.status.idle": "2021-03-22T18:10:03.733871Z",
     "shell.execute_reply": "2021-03-22T18:10:03.734435Z"
    },
    "papermill": {
     "duration": 1.75451,
     "end_time": "2021-03-22T18:10:03.734614",
     "exception": false,
     "start_time": "2021-03-22T18:10:01.980104",
     "status": "completed"
    },
    "tags": []
   },
   "outputs": [
    {
     "data": {
      "text/html": [
       "<div>\n",
       "<style scoped>\n",
       "    .dataframe tbody tr th:only-of-type {\n",
       "        vertical-align: middle;\n",
       "    }\n",
       "\n",
       "    .dataframe tbody tr th {\n",
       "        vertical-align: top;\n",
       "    }\n",
       "\n",
       "    .dataframe thead th {\n",
       "        text-align: right;\n",
       "    }\n",
       "</style>\n",
       "<table border=\"1\" class=\"dataframe\">\n",
       "  <thead>\n",
       "    <tr style=\"text-align: right;\">\n",
       "      <th></th>\n",
       "      <th>Id</th>\n",
       "      <th>ProductId</th>\n",
       "      <th>UserId</th>\n",
       "      <th>ProfileName</th>\n",
       "      <th>HelpfulnessNumerator</th>\n",
       "      <th>HelpfulnessDenominator</th>\n",
       "      <th>Score</th>\n",
       "      <th>Time</th>\n",
       "      <th>Summary</th>\n",
       "      <th>Text</th>\n",
       "      <th>Cleaned_Text</th>\n",
       "      <th>Cleaned_Summary</th>\n",
       "    </tr>\n",
       "  </thead>\n",
       "  <tbody>\n",
       "    <tr>\n",
       "      <th>51370</th>\n",
       "      <td>55810</td>\n",
       "      <td>B000RUF8GY</td>\n",
       "      <td>A3925ZEHUFDECG</td>\n",
       "      <td>bionicmamma</td>\n",
       "      <td>2</td>\n",
       "      <td>2</td>\n",
       "      <td>0</td>\n",
       "      <td>2011-04-07</td>\n",
       "      <td>Disappointed</td>\n",
       "      <td>I used this product just the other day, April ...</td>\n",
       "      <td>used product day april lawn taken dandilions c...</td>\n",
       "      <td>disappointed</td>\n",
       "    </tr>\n",
       "    <tr>\n",
       "      <th>197423</th>\n",
       "      <td>213977</td>\n",
       "      <td>B000EPMP40</td>\n",
       "      <td>A1EB0P87A48B3R</td>\n",
       "      <td>Valerie S. Crider \"Glutenfree4me\"</td>\n",
       "      <td>0</td>\n",
       "      <td>0</td>\n",
       "      <td>0</td>\n",
       "      <td>2008-03-10</td>\n",
       "      <td>Not pleased with these att all!</td>\n",
       "      <td>This cookie is too hard to bite into and the c...</td>\n",
       "      <td>cookie hard bite center like eating crispy sug...</td>\n",
       "      <td>pleased att</td>\n",
       "    </tr>\n",
       "    <tr>\n",
       "      <th>192571</th>\n",
       "      <td>208804</td>\n",
       "      <td>B00004RAMV</td>\n",
       "      <td>A3AU0DZC7CCNC</td>\n",
       "      <td>Donald</td>\n",
       "      <td>0</td>\n",
       "      <td>0</td>\n",
       "      <td>0</td>\n",
       "      <td>2012-04-22</td>\n",
       "      <td>Waste of time</td>\n",
       "      <td>I bought this Item 3 Days ago , and i just che...</td>\n",
       "      <td>bought item days ago checked seen countless ye...</td>\n",
       "      <td>waste time</td>\n",
       "    </tr>\n",
       "    <tr>\n",
       "      <th>437826</th>\n",
       "      <td>473475</td>\n",
       "      <td>B000AQASKG</td>\n",
       "      <td>A2EOWGVRR23V2Z</td>\n",
       "      <td>Sharon E. Wilson \"Smart buyer\"</td>\n",
       "      <td>0</td>\n",
       "      <td>3</td>\n",
       "      <td>0</td>\n",
       "      <td>2009-09-22</td>\n",
       "      <td>Excellent</td>\n",
       "      <td>This flavor of tuna is to die for! I was infor...</td>\n",
       "      <td>flavor tuna die informed last week thought wou...</td>\n",
       "      <td>excellent</td>\n",
       "    </tr>\n",
       "    <tr>\n",
       "      <th>444848</th>\n",
       "      <td>480990</td>\n",
       "      <td>B000CQ4D1Y</td>\n",
       "      <td>A2IX6S0R1D3IKZ</td>\n",
       "      <td>lindsey8677</td>\n",
       "      <td>0</td>\n",
       "      <td>0</td>\n",
       "      <td>0</td>\n",
       "      <td>2011-12-10</td>\n",
       "      <td>Terrible!</td>\n",
       "      <td>This pasta was absolutely terrible. I bought t...</td>\n",
       "      <td>pasta absolutely terrible bought two boxes mad...</td>\n",
       "      <td>terrible</td>\n",
       "    </tr>\n",
       "  </tbody>\n",
       "</table>\n",
       "</div>"
      ],
      "text/plain": [
       "            Id   ProductId          UserId                        ProfileName  \\\n",
       "51370    55810  B000RUF8GY  A3925ZEHUFDECG                        bionicmamma   \n",
       "197423  213977  B000EPMP40  A1EB0P87A48B3R  Valerie S. Crider \"Glutenfree4me\"   \n",
       "192571  208804  B00004RAMV   A3AU0DZC7CCNC                             Donald   \n",
       "437826  473475  B000AQASKG  A2EOWGVRR23V2Z     Sharon E. Wilson \"Smart buyer\"   \n",
       "444848  480990  B000CQ4D1Y  A2IX6S0R1D3IKZ                        lindsey8677   \n",
       "\n",
       "        HelpfulnessNumerator  HelpfulnessDenominator  Score       Time  \\\n",
       "51370                      2                       2      0 2011-04-07   \n",
       "197423                     0                       0      0 2008-03-10   \n",
       "192571                     0                       0      0 2012-04-22   \n",
       "437826                     0                       3      0 2009-09-22   \n",
       "444848                     0                       0      0 2011-12-10   \n",
       "\n",
       "                                Summary  \\\n",
       "51370                      Disappointed   \n",
       "197423  Not pleased with these att all!   \n",
       "192571                    Waste of time   \n",
       "437826                        Excellent   \n",
       "444848                        Terrible!   \n",
       "\n",
       "                                                     Text  \\\n",
       "51370   I used this product just the other day, April ...   \n",
       "197423  This cookie is too hard to bite into and the c...   \n",
       "192571  I bought this Item 3 Days ago , and i just che...   \n",
       "437826  This flavor of tuna is to die for! I was infor...   \n",
       "444848  This pasta was absolutely terrible. I bought t...   \n",
       "\n",
       "                                             Cleaned_Text Cleaned_Summary  \n",
       "51370   used product day april lawn taken dandilions c...    disappointed  \n",
       "197423  cookie hard bite center like eating crispy sug...     pleased att  \n",
       "192571  bought item days ago checked seen countless ye...      waste time  \n",
       "437826  flavor tuna die informed last week thought wou...       excellent  \n",
       "444848  pasta absolutely terrible bought two boxes mad...        terrible  "
      ]
     },
     "execution_count": 155,
     "metadata": {},
     "output_type": "execute_result"
    }
   ],
   "source": [
    "# taking equal no. of negative and positive data points\n",
    "data_pos=final_data[final_data['Score']==1].sample(n=60000)\n",
    "data_neg=final_data[final_data['Score']==0].sample(n=57000)\n",
    "final=pd.concat([data_pos,data_neg])\n",
    "final.tail()"
   ]
  },
  {
   "cell_type": "markdown",
   "metadata": {
    "papermill": {
     "duration": 1.38089,
     "end_time": "2021-03-22T18:10:06.466830",
     "exception": false,
     "start_time": "2021-03-22T18:10:05.085940",
     "status": "completed"
    },
    "tags": []
   },
   "source": [
    "# Apply Logistic Regression on BOW"
   ]
  },
  {
   "cell_type": "code",
   "execution_count": 156,
   "metadata": {
    "execution": {
     "iopub.execute_input": "2021-03-22T18:10:09.752017Z",
     "iopub.status.busy": "2021-03-22T18:10:09.750993Z",
     "iopub.status.idle": "2021-03-22T18:10:09.757539Z",
     "shell.execute_reply": "2021-03-22T18:10:09.758381Z"
    },
    "papermill": {
     "duration": 1.944504,
     "end_time": "2021-03-22T18:10:09.758612",
     "exception": false,
     "start_time": "2021-03-22T18:10:07.814108",
     "status": "completed"
    },
    "tags": []
   },
   "outputs": [
    {
     "name": "stdout",
     "output_type": "stream",
     "text": [
      "Shape of X (117000,)\n",
      "Shape of y (117000,)\n"
     ]
    }
   ],
   "source": [
    "y= final['Score']\n",
    "X = final['Cleaned_Text']\n",
    "print(\"Shape of X\",X.shape)\n",
    "print(\"Shape of y\",y.shape)"
   ]
  },
  {
   "cell_type": "code",
   "execution_count": 157,
   "metadata": {
    "execution": {
     "iopub.execute_input": "2021-03-22T18:10:13.135529Z",
     "iopub.status.busy": "2021-03-22T18:10:13.134624Z",
     "iopub.status.idle": "2021-03-22T18:10:13.172107Z",
     "shell.execute_reply": "2021-03-22T18:10:13.171228Z"
    },
    "papermill": {
     "duration": 1.414181,
     "end_time": "2021-03-22T18:10:13.172365",
     "exception": false,
     "start_time": "2021-03-22T18:10:11.758184",
     "status": "completed"
    },
    "tags": []
   },
   "outputs": [
    {
     "name": "stdout",
     "output_type": "stream",
     "text": [
      "Shape of X_train is : (57330,)\n",
      "Shape of y_train is : (57330,)\n",
      "************************\n",
      "Shape of X_Cv is : (24570,)\n",
      "Shape of y_cv is : (24570,)\n",
      "************************\n",
      "Shape of X_test is : (35100,)\n",
      "Shape of y_test is : (35100,)\n",
      "************************\n",
      "Shape of X_tr is : (81900,)\n",
      "Shape of y_tr is : (81900,)\n"
     ]
    }
   ],
   "source": [
    "from sklearn.model_selection import train_test_split\n",
    "X_tr ,X_test,y_tr,y_test = train_test_split(X,y,test_size=.30,random_state=0)\n",
    "X_train, X_cv, y_train, y_cv = train_test_split(X_tr, y_tr, test_size=.30, random_state=0)\n",
    "print('Shape of X_train is :',X_train.shape)\n",
    "print('Shape of y_train is :',y_train.shape)\n",
    "print(\"****\"*6)\n",
    "print('Shape of X_Cv is :',X_cv.shape)\n",
    "print('Shape of y_cv is :',y_cv.shape)\n",
    "print(\"****\"*6)\n",
    "print('Shape of X_test is :',X_test.shape)\n",
    "print('Shape of y_test is :',y_test.shape)\n",
    "print(\"****\"*6)\n",
    "print('Shape of X_tr is :',X_tr.shape)\n",
    "print('Shape of y_tr is :',y_tr.shape)"
   ]
  },
  {
   "cell_type": "markdown",
   "metadata": {
    "papermill": {
     "duration": 1.366701,
     "end_time": "2021-03-22T18:10:15.891734",
     "exception": false,
     "start_time": "2021-03-22T18:10:14.525033",
     "status": "completed"
    },
    "tags": []
   },
   "source": [
    "## 1. Apply Logistic Regression with L2 regularization on BOW "
   ]
  },
  {
   "cell_type": "code",
   "execution_count": 158,
   "metadata": {
    "execution": {
     "iopub.execute_input": "2021-03-22T18:10:18.659318Z",
     "iopub.status.busy": "2021-03-22T18:10:18.648978Z",
     "iopub.status.idle": "2021-03-22T18:10:28.067195Z",
     "shell.execute_reply": "2021-03-22T18:10:28.065623Z"
    },
    "papermill": {
     "duration": 10.822658,
     "end_time": "2021-03-22T18:10:28.067422",
     "exception": false,
     "start_time": "2021-03-22T18:10:17.244764",
     "status": "completed"
    },
    "tags": []
   },
   "outputs": [
    {
     "name": "stdout",
     "output_type": "stream",
     "text": [
      "After vectorization:\n",
      "Training data shape: (57330, 46580), Labels shape: (57330,)\n",
      "Cross-validation data shape: (24570, 46580), Labels shape: (24570,)\n",
      "Test data shape: (35100, 46580), Labels shape: (35100,)\n"
     ]
    }
   ],
   "source": [
    "from sklearn.feature_extraction.text import CountVectorizer\n",
    "\n",
    "# Initialize the CountVectorizer for Bag of Words (BOW)\n",
    "bow_count_vect = CountVectorizer()\n",
    "\n",
    "# Fit the CountVectorizer to the training data and learn the vocabulary\n",
    "bow_count_vect.fit(X_train)\n",
    "\n",
    "# Transform the datasets into BOW vectors using the learned vocabulary\n",
    "X_train_bow = bow_count_vect.transform(X_train)\n",
    "X_cv_bow = bow_count_vect.transform(X_cv)\n",
    "X_test_bow = bow_count_vect.transform(X_test)\n",
    "\n",
    "# Display the shapes of the resulting matrices to understand the dimensionality\n",
    "print(\"After vectorization:\")\n",
    "print(f\"Training data shape: {X_train_bow.shape}, Labels shape: {y_train.shape}\")\n",
    "print(f\"Cross-validation data shape: {X_cv_bow.shape}, Labels shape: {y_cv.shape}\")\n",
    "print(f\"Test data shape: {X_test_bow.shape}, Labels shape: {y_test.shape}\")\n"
   ]
  },
  {
   "cell_type": "code",
   "execution_count": 159,
   "metadata": {},
   "outputs": [
    {
     "data": {
      "image/png": "[encoded data removed]",
      "text/plain": [
       "<Figure size 1000x600 with 1 Axes>"
      ]
     },
     "metadata": {},
     "output_type": "display_data"
    }
   ],
   "source": [
    "import matplotlib.pyplot as plt\n",
    "import numpy as np\n",
    "\n",
    "# Calculate the total number of elements in each dataset\n",
    "total_elements_train = X_train_bow.shape[0] * X_train_bow.shape[1]\n",
    "total_elements_cv = X_cv_bow.shape[0] * X_cv_bow.shape[1]\n",
    "total_elements_test = X_test_bow.shape[0] * X_test_bow.shape[1]\n",
    "\n",
    "# Count the number of non-zero elements in each dataset directly from the sparse matrix\n",
    "train_nonzero = X_train_bow.nnz\n",
    "cv_nonzero = X_cv_bow.nnz\n",
    "test_nonzero = X_test_bow.nnz\n",
    "\n",
    "# Create a bar plot to visualize the total size vs non-zero elements in each dataset\n",
    "datasets = ['Training Set', 'Cross-Validation Set', 'Test Set']\n",
    "total_elements = [total_elements_train, total_elements_cv, total_elements_test]\n",
    "nonzero_counts = [train_nonzero, cv_nonzero, test_nonzero]\n",
    "\n",
    "x = np.arange(len(datasets))  # the label locations\n",
    "width = 0.35  # the width of the bars\n",
    "\n",
    "fig, ax = plt.subplots(figsize=(10, 6))\n",
    "\n",
    "# Plot total elements\n",
    "bars1 = ax.bar(x - width/2, total_elements, width, label='Total Elements', color='skyblue')\n",
    "\n",
    "# Plot non-zero elements\n",
    "bars2 = ax.bar(x + width/2, nonzero_counts, width, label='Non-Zero Elements', color='salmon')\n",
    "\n",
    "# Add labels, title, and custom x-axis tick labels\n",
    "ax.set_xlabel('Dataset')\n",
    "ax.set_ylabel('Number of Elements')\n",
    "ax.set_title('Total Elements vs Non-Zero Elements in BOW Vectors')\n",
    "ax.set_xticks(x)\n",
    "ax.set_xticklabels(datasets)\n",
    "ax.legend()\n",
    "\n",
    "plt.show()\n"
   ]
  },
  {
   "cell_type": "code",
   "execution_count": 160,
   "metadata": {
    "execution": {
     "iopub.execute_input": "2021-03-22T18:10:34.125842Z",
     "iopub.status.busy": "2021-03-22T18:10:34.124908Z",
     "iopub.status.idle": "2021-03-22T18:10:34.226685Z",
     "shell.execute_reply": "2021-03-22T18:10:34.225586Z"
    },
    "papermill": {
     "duration": 1.798192,
     "end_time": "2021-03-22T18:10:34.227045",
     "exception": false,
     "start_time": "2021-03-22T18:10:32.428853",
     "status": "completed"
    },
    "tags": []
   },
   "outputs": [
    {
     "name": "stdout",
     "output_type": "stream",
     "text": [
      "After standardising\n",
      "(57330, 47076) (57330,)\n",
      "(24570, 47076) (24570,)\n",
      "(35100, 47076) (35100,)\n"
     ]
    }
   ],
   "source": [
    "from sklearn import preprocessing\n",
    "from sklearn.preprocessing import StandardScaler\n",
    "from sklearn.linear_model import LogisticRegression\n",
    "from sklearn.preprocessing import StandardScaler\n",
    "scaler=StandardScaler(with_mean=False)\n",
    "scaler.fit(Xtrain_bow)\n",
    "X_tr_bow=scaler.transform(Xtrain_bow)\n",
    "X_test_bow=scaler.transform(Xtest_bow)\n",
    "X_cv_bow=scaler.transform(Xcv_bow)\n",
    "print(\"After standardising\")\n",
    "print(X_tr_bow.shape, y_train.shape)\n",
    "print(X_cv_bow.shape, y_cv.shape)\n",
    "print(X_test_bow.shape, y_test.shape)\n",
    "#print(X_tr_bow.shape, y_tr.shape)"
   ]
  },
  {
   "cell_type": "code",
   "execution_count": 161,
   "metadata": {
    "execution": {
     "iopub.execute_input": "2021-03-22T18:10:36.963331Z",
     "iopub.status.busy": "2021-03-22T18:10:36.962142Z",
     "iopub.status.idle": "2021-03-22T18:11:16.745188Z",
     "shell.execute_reply": "2021-03-22T18:11:16.746503Z"
    },
    "papermill": {
     "duration": 41.162707,
     "end_time": "2021-03-22T18:11:16.746819",
     "exception": false,
     "start_time": "2021-03-22T18:10:35.584112",
     "status": "completed"
    },
    "tags": []
   },
   "outputs": [
    {
     "name": "stdout",
     "output_type": "stream",
     "text": [
      "Optimal Regularization Strength (C) is: 0.0001\n"
     ]
    },
    {
     "data": {
      "image/png": "[encoded data removed]",
      "text/plain": [
       "<Figure size 1000x600 with 1 Axes>"
      ]
     },
     "metadata": {},
     "output_type": "display_data"
    }
   ],
   "source": [
    "import numpy as np\n",
    "import matplotlib.pyplot as plt\n",
    "from sklearn.linear_model import LogisticRegression\n",
    "from sklearn.metrics import roc_auc_score\n",
    "from joblib import Parallel, delayed\n",
    "import math\n",
    "\n",
    "# Define the range of regularization strengths (C values)\n",
    "regularization_strengths = [0.00001, 0.0001, 0.001, 0.01, 0.1, 1, 2.1, 10, 100, 1000, 10000, 100000]\n",
    "\n",
    "# Function to fit the model and calculate AUC\n",
    "def fit_and_evaluate(C, X_train, y_train, X_cv, y_cv):\n",
    "    model_logreg = LogisticRegression(penalty='l2', C=C, max_iter=10000)\n",
    "    model_logreg.fit(X_train, y_train)\n",
    "    \n",
    "    # Predict on the training data and calculate AUC\n",
    "    y_pred_train = model_logreg.predict_proba(X_train)[:, 1]\n",
    "    auc_train = roc_auc_score(y_train, y_pred_train)\n",
    "    \n",
    "    # Predict on the cross-validation data and calculate AUC\n",
    "    y_pred_cv = model_logreg.predict_proba(X_cv)[:, 1]\n",
    "    auc_cv = roc_auc_score(y_cv, y_pred_cv)\n",
    "    \n",
    "    return auc_train, auc_cv\n",
    "\n",
    "# Use joblib to parallelize the loop\n",
    "results = Parallel(n_jobs=-1)(delayed(fit_and_evaluate)(C, X_tr_bow, y_train, X_cv_bow, y_cv) for C in regularization_strengths)\n",
    "\n",
    "# Unpack the results\n",
    "auc_train, auc_cv = zip(*results)\n",
    "\n",
    "# Find the optimal regularization strength\n",
    "optimal_reg_strength = regularization_strengths[np.argmax(auc_cv)]\n",
    "log_reg_strengths = [math.log(x) for x in regularization_strengths]\n",
    "\n",
    "print('Optimal Regularization Strength (C) is:', optimal_reg_strength)\n",
    "\n",
    "# Plotting the results\n",
    "plt.figure(figsize=(10, 6))\n",
    "plt.plot(log_reg_strengths, auc_train, color='green', marker='o', label='AUC Train')\n",
    "plt.plot(log_reg_strengths, auc_cv, color='red', marker='o', label='AUC Cross-Validation')\n",
    "plt.axvline(x=math.log(optimal_reg_strength), color='blue', linestyle='--', label=f'Optimal C: {optimal_reg_strength}')\n",
    "plt.legend(loc='best')\n",
    "plt.xlabel('log(C)')\n",
    "plt.ylabel('AUC')\n",
    "plt.title('AUC vs. log(C) for Train and Cross-Validation Sets')\n",
    "plt.grid(True)\n",
    "plt.show()\n"
   ]
  },
  {
   "cell_type": "markdown",
   "metadata": {
    "papermill": {
     "duration": 1.365822,
     "end_time": "2021-03-22T18:11:19.785341",
     "exception": false,
     "start_time": "2021-03-22T18:11:18.419519",
     "status": "completed"
    },
    "tags": []
   },
   "source": [
    "Performs hyperparameter tuning for a logistic regression model using cross-validation to determine the optimal regularization strength (C value) for the model.\n",
    "Evaluate different regularization strengths (C values) for a logistic regression model using cross-validation to find the value that minimizes misclassification error, and then visualizes the relationship between C values and misclassification error."
   ]
  },
  {
   "cell_type": "code",
   "execution_count": 162,
   "metadata": {
    "execution": {
     "iopub.execute_input": "2021-03-22T18:11:22.524273Z",
     "iopub.status.busy": "2021-03-22T18:11:22.523208Z",
     "iopub.status.idle": "2021-03-22T18:17:24.033871Z",
     "shell.execute_reply": "2021-03-22T18:17:24.028715Z"
    },
    "papermill": {
     "duration": 362.888585,
     "end_time": "2021-03-22T18:17:24.034080",
     "exception": false,
     "start_time": "2021-03-22T18:11:21.145495",
     "status": "completed"
    },
    "tags": []
   },
   "outputs": [
    {
     "name": "stderr",
     "output_type": "stream",
     "text": [
      "  0%|                                                                                                                                                                                                                                                                                                                                             | 0/12 [00:00<?, ?it/s]"
     ]
    },
    {
     "name": "stderr",
     "output_type": "stream",
     "text": [
      "100%|███████████████████████████████████████████████████████████████████████████████████████████████████████████████████████████████████████████████████████████████████████████████████████████████████████████████████████████████████████████████████████████████████████████████████████████████████████████████████████████████████| 12/12 [25:51<00:00, 129.28s/it]\n"
     ]
    },
    {
     "name": "stdout",
     "output_type": "stream",
     "text": [
      "\n",
      "The optimal value of C is: 0.0001\n"
     ]
    },
    {
     "data": {
      "image/png": "[encoded data removed]",
      "text/plain": [
       "<Figure size 1000x600 with 1 Axes>"
      ]
     },
     "metadata": {},
     "output_type": "display_data"
    }
   ],
   "source": [
    "import numpy as np\n",
    "import matplotlib.pyplot as plt\n",
    "from sklearn.linear_model import LogisticRegression\n",
    "from sklearn.model_selection import cross_val_score\n",
    "from tqdm import tqdm\n",
    "import math\n",
    "\n",
    "# Define the range of regularization strengths (C values)\n",
    "regularization_strengths = [0.00001, 0.0001, 0.001, 0.01, 0.1, 1, 2.1, 10, 100, 1000, 10000, 100000]\n",
    "\n",
    "# List to store cross-validation scores\n",
    "cv_scores = []\n",
    "\n",
    "# Perform 10-fold cross-validation for each value of C, with parallel processing\n",
    "for C in tqdm(regularization_strengths):\n",
    "    model_logreg = LogisticRegression(penalty='l2', C=C, max_iter=10000)\n",
    "    \n",
    "    # Run cross-validation in parallel (use -1 to utilize all CPU cores)\n",
    "    scores = cross_val_score(model_logreg, X_tr_bow, y_train, cv=10, scoring='accuracy', n_jobs=-1)\n",
    "    cv_scores.append(scores.mean())\n",
    "\n",
    "# Convert cross-validation scores to misclassification error\n",
    "MSE = [1 - x for x in cv_scores]\n",
    "\n",
    "# Determine the optimal C value (where MSE is minimum)\n",
    "optimal_C = regularization_strengths[MSE.index(min(MSE))]\n",
    "\n",
    "# Log-transform the regularization strengths for better visualization\n",
    "log_reg_strengths = [math.log(x) for x in regularization_strengths]\n",
    "\n",
    "print(f'\\nThe optimal value of C is: {optimal_C}')\n",
    "\n",
    "# Plot the misclassification error vs log(C)\n",
    "plt.figure(figsize=(10, 6))\n",
    "plt.plot(log_reg_strengths, MSE, marker='o', linestyle='-', color='red')\n",
    "plt.axvline(x=math.log(optimal_C), color='blue', linestyle='--', label=f'Optimal C: {optimal_C}')\n",
    "plt.title(\"Misclassification Error vs log(C)\")\n",
    "plt.xlabel('log(C)')\n",
    "plt.ylabel('Misclassification Error')\n",
    "plt.grid(True)\n",
    "plt.legend()\n",
    "plt.show()\n"
   ]
  },
  {
   "cell_type": "code",
   "execution_count": 163,
   "metadata": {
    "execution": {
     "iopub.execute_input": "2021-03-22T18:17:26.817677Z",
     "iopub.status.busy": "2021-03-22T18:17:26.816745Z",
     "iopub.status.idle": "2021-03-22T18:17:26.820874Z",
     "shell.execute_reply": "2021-03-22T18:17:26.821451Z"
    },
    "papermill": {
     "duration": 1.402523,
     "end_time": "2021-03-22T18:17:26.821612",
     "exception": false,
     "start_time": "2021-03-22T18:17:25.419089",
     "status": "completed"
    },
    "tags": []
   },
   "outputs": [
    {
     "data": {
      "text/plain": [
       "0.0001"
      ]
     },
     "execution_count": 163,
     "metadata": {},
     "output_type": "execute_result"
    }
   ],
   "source": [
    "optimal_C"
   ]
  },
  {
   "cell_type": "code",
   "execution_count": 164,
   "metadata": {
    "execution": {
     "iopub.execute_input": "2021-03-22T18:17:29.629520Z",
     "iopub.status.busy": "2021-03-22T18:17:29.628403Z",
     "iopub.status.idle": "2021-03-22T18:17:31.929852Z",
     "shell.execute_reply": "2021-03-22T18:17:31.928898Z"
    },
    "papermill": {
     "duration": 3.719778,
     "end_time": "2021-03-22T18:17:31.930013",
     "exception": false,
     "start_time": "2021-03-22T18:17:28.210235",
     "status": "completed"
    },
    "tags": []
   },
   "outputs": [
    {
     "data": {
      "image/png": "[encoded data removed]",
      "text/plain": [
       "<Figure size 1000x600 with 1 Axes>"
      ]
     },
     "metadata": {},
     "output_type": "display_data"
    }
   ],
   "source": [
    "import matplotlib.pyplot as plt\n",
    "from sklearn.linear_model import LogisticRegression\n",
    "from sklearn.metrics import roc_curve, roc_auc_score\n",
    "\n",
    "# Train the Logistic Regression model using the optimal regularization strength\n",
    "logistic_model = LogisticRegression(penalty='l2', C=optimal_C, max_iter=10000)\n",
    "logistic_model.fit(X_tr_bow, y_train)\n",
    "\n",
    "# Predict probabilities for the test set and calculate ROC curve metrics\n",
    "y_test_pred_prob = logistic_model.predict_proba(X_test_bow)[:, 1]\n",
    "false_positive_rate_test, true_positive_rate_test, thresholds_test = roc_curve(y_test, y_test_pred_prob)\n",
    "\n",
    "# Predict probabilities for the training set and calculate ROC curve metrics\n",
    "y_train_pred_prob = logistic_model.predict_proba(X_tr_bow)[:, 1]\n",
    "false_positive_rate_train, true_positive_rate_train, thresholds_train = roc_curve(y_train, y_train_pred_prob)\n",
    "\n",
    "# Calculate AUC scores\n",
    "auc_test = roc_auc_score(y_test, y_test_pred_prob)\n",
    "auc_train = roc_auc_score(y_train, y_train_pred_prob)\n",
    "\n",
    "# Plotting the ROC curves\n",
    "plt.figure(figsize=(10, 6))\n",
    "plt.plot(false_positive_rate_test, true_positive_rate_test, label=f'Test ROC (AUC = {auc_test:.4f})', color='blue', linestyle='-', marker='o')\n",
    "plt.plot(false_positive_rate_train, true_positive_rate_train, label=f'Train ROC (AUC = {auc_train:.4f})', color='green', linestyle='--', marker='x')\n",
    "plt.title('Receiver Operating Characteristic (ROC) Curve')\n",
    "plt.xlabel('False Positive Rate (FPR)')\n",
    "plt.ylabel('True Positive Rate (TPR)')\n",
    "plt.grid(True)\n",
    "plt.legend(loc='best')\n",
    "plt.show()\n"
   ]
  },
  {
   "cell_type": "code",
   "execution_count": null,
   "metadata": {},
   "outputs": [],
   "source": []
  },
  {
   "cell_type": "code",
   "execution_count": 165,
   "metadata": {
    "execution": {
     "iopub.execute_input": "2021-03-22T18:17:34.740068Z",
     "iopub.status.busy": "2021-03-22T18:17:34.738689Z",
     "iopub.status.idle": "2021-03-22T18:17:36.162393Z",
     "shell.execute_reply": "2021-03-22T18:17:36.163064Z"
    },
    "papermill": {
     "duration": 2.813655,
     "end_time": "2021-03-22T18:17:36.163271",
     "exception": false,
     "start_time": "2021-03-22T18:17:33.349616",
     "status": "completed"
    },
    "tags": []
   },
   "outputs": [
    {
     "data": {
      "image/png": "[encoded data removed]",
      "text/plain": [
       "<Figure size 800x600 with 1 Axes>"
      ]
     },
     "metadata": {},
     "output_type": "display_data"
    }
   ],
   "source": [
    "import pandas as pd\n",
    "import seaborn as sns\n",
    "import matplotlib.pyplot as plt\n",
    "from sklearn.linear_model import LogisticRegression\n",
    "from sklearn.metrics import confusion_matrix\n",
    "\n",
    "# Train the Logistic Regression model with the optimal regularization strength\n",
    "logistic_model = LogisticRegression(penalty='l2', C=optimal_C, max_iter=10000)\n",
    "logistic_model.fit(X_tr_bow, y_train)\n",
    "\n",
    "# Predict the labels for the test set\n",
    "y_test_pred = logistic_model.predict(X_test_bow)\n",
    "\n",
    "# Generate the confusion matrix\n",
    "confusion_mat = confusion_matrix(y_test, y_test_pred)\n",
    "\n",
    "# Define class labels\n",
    "class_labels = [\"Negative\", \"Positive\"]\n",
    "\n",
    "# Create a DataFrame for the confusion matrix to enhance readability\n",
    "confusion_df = pd.DataFrame(confusion_mat, columns=class_labels, index=class_labels)\n",
    "\n",
    "# Plotting the confusion matrix using a heatmap\n",
    "plt.figure(figsize=(8, 6))\n",
    "sns.heatmap(confusion_df, annot=True, fmt='d', cmap='Blues', cbar=False, linewidths=0.5, linecolor='black')\n",
    "\n",
    "# Adding labels and title\n",
    "plt.title(\"Confusion Matrix for Test Data\", fontsize=16)\n",
    "plt.xlabel(\"Predicted Label\", fontsize=14)\n",
    "plt.ylabel(\"True Label\", fontsize=14)\n",
    "\n",
    "# Display the plot\n",
    "plt.show()\n"
   ]
  },
  {
   "cell_type": "markdown",
   "metadata": {
    "papermill": {
     "duration": 1.388858,
     "end_time": "2021-03-22T18:17:38.941366",
     "exception": false,
     "start_time": "2021-03-22T18:17:37.552508",
     "status": "completed"
    },
    "tags": []
   },
   "source": [
    "#  Performing pertubation test (multicollinearity check) on BOW"
   ]
  },
  {
   "cell_type": "code",
   "execution_count": 166,
   "metadata": {
    "execution": {
     "iopub.execute_input": "2021-03-22T18:17:42.334838Z",
     "iopub.status.busy": "2021-03-22T18:17:42.333902Z",
     "iopub.status.idle": "2021-03-22T18:17:42.424042Z",
     "shell.execute_reply": "2021-03-22T18:17:42.424609Z"
    },
    "papermill": {
     "duration": 2.083163,
     "end_time": "2021-03-22T18:17:42.424847",
     "exception": false,
     "start_time": "2021-03-22T18:17:40.341684",
     "status": "completed"
    },
    "tags": []
   },
   "outputs": [
    {
     "name": "stdout",
     "output_type": "stream",
     "text": [
      "Shape of X_noisy before adding noise: (57330, 47076)\n"
     ]
    },
    {
     "name": "stdout",
     "output_type": "stream",
     "text": [
      "Shape of X_noisy.data: (1882894,)\n",
      "Shape of X_noisy after adding noise: (57330, 47076)\n",
      "Top 10 largest percentage changes in weights:\n",
      "[268.0764927236357, 268.07635246261043, 268.076280185467, 268.07599555100205, 9.512687822467772, 9.512679886031902, 8.665830850921994, 7.040113960629389, 7.040111723445356, 7.040110294784865]\n",
      "Percentiles of the sorted absolute percentage changes:\n",
      "0th percentile = 0.000007\n",
      "10th percentile = 0.000181\n",
      "20th percentile = 0.000245\n",
      "30th percentile = 0.000309\n",
      "40th percentile = 0.000383\n",
      "50th percentile = 0.000481\n",
      "60th percentile = 0.000624\n",
      "70th percentile = 0.000860\n",
      "80th percentile = 0.001317\n",
      "90th percentile = 0.003078\n",
      "100th percentile = 268.076493\n",
      "\n",
      "Features from 99.9th percentile to 100th percentile:\n",
      "aweets\n",
      "whoohoo\n",
      "parabens\n",
      "botanical\n",
      "flagstaff\n",
      "pomona\n",
      "luckly\n",
      "lopez\n",
      "plateful\n",
      "manges\n",
      "\n",
      "Top 10 important features of the positive class:\n",
      "growlin\n",
      "bets\n",
      "dentally\n",
      "madagascar\n",
      "phillippine\n",
      "madewith\n",
      "expec\n",
      "hope\n",
      "fesh\n",
      "grandbaby\n",
      "\n",
      "Top 10 important features of the negative class:\n",
      "disgusto\n",
      "yow\n",
      "movenpick\n",
      "bag\n",
      "thimble\n",
      "awfulwe\n",
      "yuck\n",
      "dished\n",
      "hydrangea\n",
      "whisking\n"
     ]
    },
    {
     "data": {
      "image/png": "[encoded data removed]",
      "text/plain": [
       "<Figure size 1200x600 with 1 Axes>"
      ]
     },
     "metadata": {},
     "output_type": "display_data"
    },
    {
     "data": {
      "image/png": "[encoded data removed]",
      "text/plain": [
       "<Figure size 1200x600 with 1 Axes>"
      ]
     },
     "metadata": {},
     "output_type": "display_data"
    }
   ],
   "source": [
    "import numpy as np\n",
    "import matplotlib.pyplot as plt\n",
    "from sklearn.linear_model import LogisticRegression\n",
    "\n",
    "# Assuming logistic regression models (logreg and lr_e) and other variables have been defined\n",
    "\n",
    "# Store the original weights of the logistic regression model\n",
    "original_weights = logreg.coef_.copy()\n",
    "\n",
    "# Copy the training data to add noise\n",
    "X_noisy = X_tr_bow.copy()\n",
    "\n",
    "# Display the shape of the data before adding noise\n",
    "print('Shape of X_noisy before adding noise:', X_noisy.shape)\n",
    "\n",
    "# Add Gaussian noise to the non-zero elements of the sparse matrix\n",
    "X_noisy.data += np.random.normal(loc=0, scale=0.0001, size=X_noisy.data.shape)\n",
    "\n",
    "# Display the shape of the data after adding noise\n",
    "print('Shape of X_noisy.data:', X_noisy.data.shape)\n",
    "print('Shape of X_noisy after adding noise:', X_noisy.shape)\n",
    "\n",
    "# Train the Logistic Regression model on the noisy data\n",
    "logistic_model_noisy = LogisticRegression(penalty='l2', C=optimal_C, max_iter=10000)\n",
    "logistic_model_noisy.fit(X_noisy, y_train)\n",
    "\n",
    "# Store the weights after training on the noisy data\n",
    "weights_after_noise = logistic_model_noisy.coef_.copy()\n",
    "\n",
    "# Add a small value to avoid division by zero errors\n",
    "original_weights += 10**-6\n",
    "weights_after_noise += 10**-6\n",
    "\n",
    "# Calculate the percentage changes in weight vectors\n",
    "percentage_changes = []\n",
    "\n",
    "for i in range(len(original_weights[0])):\n",
    "    change = (weights_after_noise[0][i] - original_weights[0][i]) / original_weights[0][i]\n",
    "    percentage_changes.append(change)\n",
    "\n",
    "# Convert to absolute values to assess the magnitude of changes\n",
    "absolute_percentage_changes = np.absolute(percentage_changes)\n",
    "\n",
    "# Sort the percentage changes in descending order\n",
    "sorted_percentage_changes = sorted(absolute_percentage_changes, reverse=True)\n",
    "\n",
    "# Display the top 10 largest percentage changes\n",
    "print(\"Top 10 largest percentage changes in weights:\")\n",
    "print(sorted_percentage_changes[:10])\n",
    "\n",
    "# Calculate and display percentiles of the percentage changes\n",
    "print(\"Percentiles of the sorted absolute percentage changes:\")\n",
    "for i in range(0, 101, 10):\n",
    "    percentile_value = np.percentile(sorted_percentage_changes, i)\n",
    "    print(f'{i}th percentile = {percentile_value:.6f}')\n",
    "\n",
    "# Identify and print features in the 99.9th to 100th percentile\n",
    "print(\"\\nFeatures from 99.9th percentile to 100th percentile:\")\n",
    "original_perc_change_list = absolute_percentage_changes.tolist()\n",
    "all_features = bow_count_vect.get_feature_names_out()\n",
    "\n",
    "for i in range(1, 11):\n",
    "    percentile_value = np.percentile(sorted_percentage_changes, 99.9 + (10**-2) * i)\n",
    "    closest_index = np.argmin(np.abs(np.array(original_perc_change_list) - percentile_value))\n",
    "    print(all_features[closest_index])\n",
    "\n",
    "# Identifying top features for positive and negative classes\n",
    "sorted_indices = np.argsort(original_weights[0])\n",
    "positive_feature_indices = sorted_indices[::-1][:10]\n",
    "negative_feature_indices = sorted_indices[:10]\n",
    "\n",
    "# Top 10 important features of the positive class\n",
    "print(\"\\nTop 10 important features of the positive class:\")\n",
    "for index in positive_feature_indices:\n",
    "    print(all_features[index])\n",
    "\n",
    "# Top 10 important features of the negative class\n",
    "print(\"\\nTop 10 important features of the negative class:\")\n",
    "for index in negative_feature_indices:\n",
    "    print(all_features[index])\n",
    "\n",
    "# Optional: Plot the top features for positive and negative classes\n",
    "plt.figure(figsize=(12, 6))\n",
    "plt.barh([all_features[i] for i in positive_feature_indices], original_weights[0][positive_feature_indices], color='green')\n",
    "plt.xlabel('Coefficient Value')\n",
    "plt.title('Top 10 Positive Class Features')\n",
    "plt.grid(True)\n",
    "plt.show()\n",
    "\n",
    "plt.figure(figsize=(12, 6))\n",
    "plt.barh([all_features[i] for i in negative_feature_indices], original_weights[0][negative_feature_indices], color='red')\n",
    "plt.xlabel('Coefficient Value')\n",
    "plt.title('Top 10 Negative Class Features')\n",
    "plt.grid(True)\n",
    "plt.show()\n"
   ]
  },
  {
   "cell_type": "code",
   "execution_count": 167,
   "metadata": {
    "execution": {
     "iopub.execute_input": "2021-03-22T18:17:45.224198Z",
     "iopub.status.busy": "2021-03-22T18:17:45.222935Z",
     "iopub.status.idle": "2021-03-22T18:17:46.288089Z",
     "shell.execute_reply": "2021-03-22T18:17:46.286173Z"
    },
    "papermill": {
     "duration": 2.457485,
     "end_time": "2021-03-22T18:17:46.288365",
     "exception": false,
     "start_time": "2021-03-22T18:17:43.830880",
     "status": "completed"
    },
    "tags": []
   },
   "outputs": [
    {
     "name": "stdout",
     "output_type": "stream",
     "text": [
      "Requirement already satisfied: prettytable in /Library/Frameworks/Python.framework/Versions/3.8/lib/python3.8/site-packages (3.11.0)\n",
      "Requirement already satisfied: wcwidth in /Library/Frameworks/Python.framework/Versions/3.8/lib/python3.8/site-packages (from prettytable) (0.2.12)\n",
      "\u001b[33mWARNING: You are using pip version 21.1.1; however, version 24.2 is available.\n",
      "You should consider upgrading via the '/Library/Frameworks/Python.framework/Versions/3.8/bin/python3.8 -m pip install --upgrade pip' command.\u001b[0m\n",
      "Shape of X_train: (57330,)\n",
      "Shape of y_train: (57330,)\n",
      "Shape of X_cv: (24570,)\n",
      "Shape of y_cv: (24570,)\n",
      "Shape of X_test: (35100,)\n",
      "Shape of y_test: (35100,)\n",
      "Number of words that occurred at least 5 times: 14950\n",
      "Sample words: ['like', 'taste', 'product', 'good', 'one', 'would', 'coffee', 'flavor', 'great', 'tea', 'get', 'love', 'food', 'amazon', 'really', 'donot', 'much', 'buy', 'even', 'time', 'use', 'also', 'tried', 'little', 'price', 'better', 'make', 'try', 'well', 'find', 'first', 'eat', 'bought', 'water', 'chocolate', 'box', 'sugar', 'best', 'used', 'made', 'bag', 'could', 'two', 'way', 'dog', 'found', 'order', 'tastes', 'cup', 'sweet']\n"
     ]
    },
    {
     "name": "stderr",
     "output_type": "stream",
     "text": [
      "  9%|████████████████████████████                                                                                                                                                                                                                                                                                                   | 5053/57330 [00:31<15:32, 56.07it/s]"
     ]
    }
   ],
   "source": [
    "import numpy as np\n",
    "import matplotlib.pyplot as plt\n",
    "import seaborn as sns\n",
    "from gensim.models import Word2Vec\n",
    "from sklearn.linear_model import LogisticRegression\n",
    "from sklearn.metrics import roc_auc_score, roc_curve, confusion_matrix\n",
    "from sklearn.preprocessing import StandardScaler\n",
    "from sklearn.model_selection import train_test_split, cross_val_score\n",
    "from tqdm import tqdm\n",
    "import math\n",
    "!pip3 install prettytable\n",
    "from prettytable import PrettyTable\n",
    "\n",
    "# Split the dataset into training, validation, and test sets\n",
    "X_train, X_test, y_train, y_test = train_test_split(X, y, test_size=0.30, random_state=0)\n",
    "X_train, X_cv, y_train, y_cv = train_test_split(X_train, y_train, test_size=0.30, random_state=0)\n",
    "\n",
    "print('Shape of X_train:', X_train.shape)\n",
    "print('Shape of y_train:', y_train.shape)\n",
    "print('Shape of X_cv:', X_cv.shape)\n",
    "print('Shape of y_cv:', y_cv.shape)\n",
    "print('Shape of X_test:', X_test.shape)\n",
    "print('Shape of y_test:', y_test.shape)\n",
    "\n",
    "# Prepare the data for Word2Vec training\n",
    "def prepare_data_for_w2v(data):\n",
    "    return [sentence.split() for sentence in data]\n",
    "\n",
    "list_of_X_train = prepare_data_for_w2v(X_train)\n",
    "list_of_X_test = prepare_data_for_w2v(X_test)\n",
    "list_of_X_cv = prepare_data_for_w2v(X_cv)\n",
    "\n",
    "# Train Word2Vec model\n",
    "w2v_model = Word2Vec(list_of_X_train, min_count=5, vector_size=50, workers=4)\n",
    "w2v_words = list(w2v_model.wv.index_to_key)\n",
    "\n",
    "print(\"Number of words that occurred at least 5 times:\", len(w2v_words))\n",
    "print(\"Sample words:\", w2v_words[:50])\n",
    "\n",
    "# Function to compute average Word2Vec for each sentence\n",
    "def compute_avg_w2v(sentences, model, w2v_words):\n",
    "    sentence_vectors = []\n",
    "    for sentence in tqdm(sentences):\n",
    "        sent_vec = np.zeros(50)\n",
    "        count_words = 0\n",
    "        for word in sentence:\n",
    "            if word in w2v_words:\n",
    "                vec = model.wv[word]\n",
    "                sent_vec += vec\n",
    "                count_words += 1\n",
    "        if count_words != 0:\n",
    "            sent_vec /= count_words\n",
    "        sentence_vectors.append(sent_vec)\n",
    "    return sentence_vectors\n",
    "\n",
    "X_train_avg_w2v = compute_avg_w2v(list_of_X_train, w2v_model, w2v_words)\n",
    "X_test_avg_w2v = compute_avg_w2v(list_of_X_test, w2v_model, w2v_words)\n",
    "X_cv_avg_w2v = compute_avg_w2v(list_of_X_cv, w2v_model, w2v_words)\n",
    "\n",
    "# Standardize the data\n",
    "scaler = StandardScaler(with_mean=False)\n",
    "X_train_avg_w2v = scaler.fit_transform(X_train_avg_w2v)\n",
    "X_test_avg_w2v = scaler.transform(X_test_avg_w2v)\n",
    "X_cv_avg_w2v = scaler.transform(X_cv_avg_w2v)\n",
    "\n",
    "# Hyperparameter tuning for Logistic Regression using 10-fold cross-validation\n",
    "regularization_params = [0.00001, 0.0001, 0.001, 0.01, 0.1, 1, 10, 100, 1000, 10000, 100000]\n",
    "cv_scores = []\n",
    "\n",
    "for C in tqdm(regularization_params):\n",
    "    lr_model = LogisticRegression(penalty='l2', C=C)\n",
    "    score = cross_val_score(lr_model, X_train_avg_w2v, y_train, cv=10)\n",
    "    cv_scores.append(score.mean())\n",
    "\n",
    "# Calculate misclassification error\n",
    "misclassification_errors = [1 - score for score in cv_scores]\n",
    "\n",
    "# Determine the optimal C value\n",
    "optimal_C_avg_w2v = regularization_params[np.argmin(misclassification_errors)]\n",
    "print(\"Optimal C for Avg W2V:\", optimal_C_avg_w2v)\n",
    "\n",
    "# Plot misclassification error vs log(C)\n",
    "plt.figure(figsize=(10, 6))\n",
    "plt.plot(np.log10(regularization_params), misclassification_errors, marker='o')\n",
    "plt.title(\"Misclassification Error vs log(C)\")\n",
    "plt.xlabel(\"log(C)\")\n",
    "plt.ylabel(\"Misclassification Error\")\n",
    "plt.grid(True)\n",
    "plt.show()\n",
    "\n",
    "# Train the final model with the optimal C\n",
    "final_lr_model = LogisticRegression(penalty='l2', C=optimal_C_avg_w2v)\n",
    "final_lr_model.fit(X_train_avg_w2v, y_train)\n",
    "\n",
    "# Predict and plot ROC curve for both train and test sets\n",
    "def plot_roc_curve(model, X_train, y_train, X_test, y_test):\n",
    "    y_train_pred = model.predict_proba(X_train)[:, 1]\n",
    "    y_test_pred = model.predict_proba(X_test)[:, 1]\n",
    "    \n",
    "    fpr_train, tpr_train, _ = roc_curve(y_train, y_train_pred)\n",
    "    fpr_test, tpr_test, _ = roc_curve(y_test, y_test_pred)\n",
    "    \n",
    "    plt.figure(figsize=(10, 6))\n",
    "    plt.plot(fpr_train, tpr_train, label=f'Train ROC (AUC = {roc_auc_score(y_train, y_train_pred):.4f})', color='green')\n",
    "    plt.plot(fpr_test, tpr_test, label=f'Test ROC (AUC = {roc_auc_score(y_test, y_test_pred):.4f})', color='blue')\n",
    "    plt.title(\"ROC Curve\")\n",
    "    plt.xlabel(\"False Positive Rate (FPR)\")\n",
    "    plt.ylabel(\"True Positive Rate (TPR)\")\n",
    "    plt.legend(loc='best')\n",
    "    plt.grid(True)\n",
    "    plt.show()\n",
    "\n",
    "plot_roc_curve(final_lr_model, X_train_avg_w2v, y_train, X_test_avg_w2v, y_test)\n",
    "\n",
    "# Confusion matrix using heatmap for the test data\n",
    "def plot_confusion_matrix(model, X_test, y_test):\n",
    "    y_pred = model.predict(X_test)\n",
    "    conf_matrix = confusion_matrix(y_test, y_pred)\n",
    "    class_labels = ['Negative', 'Positive']\n",
    "    df_conf_matrix = pd.DataFrame(conf_matrix, index=class_labels, columns=class_labels)\n",
    "    \n",
    "    plt.figure(figsize=(8, 6))\n",
    "    sns.heatmap(df_conf_matrix, annot=True, fmt='d', cmap='Blues')\n",
    "    plt.title(\"Confusion Matrix\")\n",
    "    plt.xlabel(\"Predicted Label\")\n",
    "    plt.ylabel(\"True Label\")\n",
    "    plt.show()\n",
    "\n",
    "plot_confusion_matrix(final_lr_model, X_test_avg_w2v, y_test)\n",
    "\n",
    "# Compare models using PrettyTable\n",
    "comparison_table = PrettyTable()\n",
    "comparison_table.field_names = [\"Vectorizer\", \"Regularization\", \"Feature Engineering\", \"Hyperparameter (C)\", \"AUC\"]\n",
    "\n",
    "comparison_table.add_row([\"Bag of Words\", \"L2\", \"None\", 0.0001, 0.9398])\n",
    "comparison_table.add_row([\"TF-IDF\", \"L2\", \"None\", 10000, 0.9688])\n",
    "comparison_table.add_row([\"Average W2V\", \"L2\", \"None\", 10, 0.9184])\n",
    "comparison_table.add_row([\"TF-IDF Weighted W2V\", \"L2\", \"None\", 1, 0.8971])\n",
    "\n",
    "print(comparison_table)\n"
   ]
  },
  {
   "cell_type": "code",
   "execution_count": null,
   "metadata": {
    "papermill": {
     "duration": 10.541316,
     "end_time": "2021-03-22T19:59:12.665317",
     "exception": false,
     "start_time": "2021-03-22T19:59:02.124001",
     "status": "completed"
    },
    "tags": []
   },
   "outputs": [
    {
     "data": {
      "image/png": "[encoded data removed]",
      "text/plain": [
       "<Figure size 1200x600 with 1 Axes>"
      ]
     },
     "metadata": {},
     "output_type": "display_data"
    }
   ],
   "source": [
    "import numpy as np\n",
    "\n",
    "# Data for the models\n",
    "models = ['Bag of Words', 'TF-IDF', 'Average W2V', 'TF-IDF Weighted W2V']\n",
    "auc_scores = [0.9398, 0.9688, 0.9184, 0.8971]\n",
    "C_values = [0.0001, 10000, 10, 1]\n",
    "\n",
    "# Normalize C values for comparison\n",
    "C_normalized = np.log10(C_values)\n",
    "\n",
    "# Bar width\n",
    "bar_width = 0.35\n",
    "\n",
    "# Set up positions for bars\n",
    "index = np.arange(len(models))\n",
    "\n",
    "# Create grouped bar chart\n",
    "plt.figure(figsize=(12, 6))\n",
    "bar1 = plt.bar(index, auc_scores, bar_width, label='AUC Score', color='skyblue')\n",
    "bar2 = plt.bar(index + bar_width, C_normalized, bar_width, label='Log(C)', color='lightcoral')\n",
    "\n",
    "# Add labels and title\n",
    "plt.xlabel('Models')\n",
    "plt.title('Model Comparison: AUC Score and Regularization Parameter (Log(C))')\n",
    "plt.xticks(index + bar_width / 2, models)\n",
    "plt.legend()\n",
    "\n",
    "# Add value labels\n",
    "for bar in bar1:\n",
    "    yval = bar.get_height()\n",
    "    plt.text(bar.get_x() + bar.get_width()/2, yval, f'{yval:.4f}', va='bottom', ha='center')\n",
    "\n",
    "for bar in bar2:\n",
    "    yval = bar.get_height()\n",
    "    plt.text(bar.get_x() + bar.get_width()/2, yval, f'{yval:.2f}', va='bottom', ha='center')\n",
    "\n",
    "plt.grid(True, axis='y', linestyle='--', alpha=0.7)\n",
    "plt.show()\n"
   ]
  },
  {
   "cell_type": "code",
   "execution_count": null,
   "metadata": {},
   "outputs": [
    {
     "data": {
      "image/png": "[encoded data removed]",
      "text/plain": [
       "<Figure size 1000x600 with 2 Axes>"
      ]
     },
     "metadata": {},
     "output_type": "display_data"
    }
   ],
   "source": [
    "import matplotlib.pyplot as plt\n",
    "import numpy as np\n",
    "\n",
    "# Data for the models\n",
    "models = ['Bag of Words', 'TF-IDF', 'Average W2V', 'TF-IDF Weighted W2V']\n",
    "auc_scores = [0.9398, 0.9688, 0.9184, 0.8971]\n",
    "\n",
    "# Create a colormap based on the AUC scores\n",
    "colors = plt.cm.viridis(np.linspace(0, 1, len(models)))\n",
    "\n",
    "# Create a bar chart with the new color scheme\n",
    "plt.figure(figsize=(10, 6))\n",
    "bars = plt.barh(models, auc_scores, color=colors)\n",
    "\n",
    "# Add labels inside the bars for better readability\n",
    "for index, value in enumerate(auc_scores):\n",
    "    plt.text(value - 0.02, index, f'{value:.4f}', va='center', ha='right', fontsize=12, color='black', weight='bold')\n",
    "\n",
    "plt.xlabel('AUC Score', fontsize=14)\n",
    "plt.title('Model Comparison by AUC Score', fontsize=16, weight='bold')\n",
    "plt.grid(True, axis='x', linestyle='--', alpha=0.7)\n",
    "\n",
    "# Adjust x-axis limits to prevent text from overlapping the border\n",
    "plt.xlim(0.85, 1.0)\n",
    "\n",
    "# Optional: Add color bar for reference, but adjust its position to avoid overlap\n",
    "sm = plt.cm.ScalarMappable(cmap=plt.cm.viridis, norm=plt.Normalize(vmin=min(auc_scores), vmax=max(auc_scores)))\n",
    "sm.set_array([])\n",
    "plt.colorbar(sm, orientation='horizontal', pad=0.15, aspect=40)  # Moved color bar away from x-axis\n",
    "\n",
    "plt.show()\n"
   ]
  }
 ],
 "metadata": {
  "kernelspec": {
   "display_name": "Python 3 (ipykernel)",
   "language": "python",
   "name": "python3"
  },
  "language_info": {
   "codemirror_mode": {
    "name": "ipython",
    "version": 3
   },
   "file_extension": ".py",
   "mimetype": "text/x-python",
   "name": "python",
   "nbconvert_exporter": "python",
   "pygments_lexer": "ipython3",
   "version": "3.8.10"
  },
  "papermill": {
   "default_parameters": {},
   "duration": 7070.501319,
   "end_time": "2021-03-22T19:59:24.659299",
   "environment_variables": {},
   "exception": null,
   "input_path": "__notebook__.ipynb",
   "output_path": "__notebook__.ipynb",
   "parameters": {},
   "start_time": "2021-03-22T18:01:34.157980",
   "version": "2.2.2"
  }
 },
 "nbformat": 4,
 "nbformat_minor": 4
}
